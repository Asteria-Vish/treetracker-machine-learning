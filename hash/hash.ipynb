{
 "cells": [
  {
   "cell_type": "code",
   "execution_count": 65,
   "id": "appreciated-ethernet",
   "metadata": {},
   "outputs": [],
   "source": [
    "from imutils import paths\n",
    "import argparse\n",
    "import time\n",
    "import sys\n",
    "import cv2\n",
    "import os\n",
    "import numpy as np\n",
    "from PIL import Image"
   ]
  },
  {
   "cell_type": "code",
   "execution_count": 40,
   "id": "mental-street",
   "metadata": {},
   "outputs": [
    {
     "name": "stdout",
     "output_type": "stream",
     "text": [
      "     217\r\n"
     ]
    }
   ],
   "source": [
    "!ls ACACAURI | wc -l"
   ]
  },
  {
   "cell_type": "code",
   "execution_count": 68,
   "id": "atlantic-fellowship",
   "metadata": {},
   "outputs": [],
   "source": [
    "def noisy(noise_typ,image):\n",
    "     print(noise_typ)\n",
    "     if noise_typ == \"gauss\":\n",
    "        row,col,ch= image.shape\n",
    "        mean = 0\n",
    "        var = 0.1\n",
    "        sigma = var**0.5\n",
    "        gauss = np.random.normal(mean,sigma,(row,col,ch))\n",
    "        gauss = gauss.reshape(row,col,ch)\n",
    "        noisy = image + gauss\n",
    "        return noisy\n",
    "     elif noise_typ == \"s&p\":\n",
    "        row,col,ch = image.shape\n",
    "        s_vs_p = 0.5\n",
    "        amount = 0.004\n",
    "        out = np.copy(image)\n",
    "        # Salt mode\n",
    "        num_salt = np.ceil(amount * image.size * s_vs_p)\n",
    "        coords = [np.random.randint(0, i - 1, int(num_salt))\n",
    "              for i in image.shape]\n",
    "        out[coords] = 1\n",
    "\n",
    "        # Pepper mode\n",
    "        num_pepper = np.ceil(amount* image.size * (1. - s_vs_p))\n",
    "        coords = [np.random.randint(0, i - 1, int(num_pepper))\n",
    "              for i in image.shape]\n",
    "        out[coords] = 0\n",
    "        return out\n",
    "     elif noise_typ == \"poisson\":\n",
    "        print(\"here\")\n",
    "        vals = len(np.unique(image))\n",
    "        vals = 2 ** np.ceil(np.log2(vals))\n",
    "        noisy = np.random.poisson(image * vals) / float(vals)\n",
    "        return noisy\n",
    "     elif noise_typ ==\"speckle\":\n",
    "        row,col,ch = image.shape\n",
    "        gauss = np.random.randn(row,col,ch)\n",
    "        gauss = gauss.reshape(row,col,ch)        \n",
    "        noisy = image + image * gauss\n",
    "        return noisy"
   ]
  },
  {
   "cell_type": "code",
   "execution_count": 73,
   "id": "periodic-hours",
   "metadata": {},
   "outputs": [
    {
     "name": "stdout",
     "output_type": "stream",
     "text": [
      "here\n"
     ]
    }
   ],
   "source": [
    "dup = np.asarray(Image.open(\"needles/dup.jpg\"))\n",
    "res = noisy(\"poisson\", dup).astype(np.uint8)\n",
    "res_img = Image.fromarray(res)\n",
    "res_img.save(\"needles/noisy_poisson.jpg\")"
   ]
  },
  {
   "cell_type": "code",
   "execution_count": 80,
   "id": "powered-combine",
   "metadata": {},
   "outputs": [],
   "source": [
    "def dhash(image, hashSize=8):\n",
    "\t# resize the input image, adding a single column (width) so we\n",
    "\t# can compute the horizontal gradient\n",
    "\tresized = cv2.resize(image, (hashSize + 1, hashSize))\n",
    "\t# compute the (relative) horizontal gradient between adjacent\n",
    "\t# column pixels\n",
    "\tdiff = resized[:, 1:] > resized[:, :-1]\n",
    "\t# convert the difference image to a hash\n",
    "\treturn sum([2 ** i for (i, v) in enumerate(diff.flatten()) if v])"
   ]
  },
  {
   "cell_type": "code",
   "execution_count": 83,
   "id": "oriental-wildlife",
   "metadata": {},
   "outputs": [
    {
     "name": "stdout",
     "output_type": "stream",
     "text": [
      "[INFO] computing hashes for haystack...\n"
     ]
    }
   ],
   "source": [
    "print(\"[INFO] computing hashes for haystack...\")\n",
    "haystackPaths = list(paths.list_images(\"ACACAURI\"))\n",
    "needlePaths = list(paths.list_images(\"needles\"))"
   ]
  },
  {
   "cell_type": "code",
   "execution_count": 84,
   "id": "boxed-rolling",
   "metadata": {},
   "outputs": [],
   "source": [
    "# grab the base subdirectories for the needle paths, initialize the\n",
    "# dictionary that will map the image hash to corresponding image,\n",
    "# hashes, then start the timer\n",
    "BASE_PATHS = set([p.split(os.path.sep)[-2] for p in needlePaths])\n",
    "haystack = {}\n",
    "start = time.time()"
   ]
  },
  {
   "cell_type": "code",
   "execution_count": 85,
   "id": "clinical-warehouse",
   "metadata": {},
   "outputs": [],
   "source": [
    "# loop over the haystack paths\n",
    "for p in haystackPaths:\n",
    "\t# load the image from disk\n",
    "\timage = cv2.imread(p)\n",
    "\t# if the image is None then we could not load it from disk (so\n",
    "\t# skip it)\n",
    "\tif image is None:\n",
    "\t\tcontinue\n",
    "\t# convert the image to grayscale and compute the hash\n",
    "\timage = cv2.cvtColor(image, cv2.COLOR_BGR2GRAY)\n",
    "\timageHash = dhash(image)\n",
    "\t# update the haystack dictionary\n",
    "\tl = haystack.get(imageHash, [])\n",
    "\tl.append(p)\n",
    "\thaystack[imageHash] = l"
   ]
  },
  {
   "cell_type": "code",
   "execution_count": 86,
   "id": "trained-following",
   "metadata": {},
   "outputs": [
    {
     "name": "stdout",
     "output_type": "stream",
     "text": [
      "218\n"
     ]
    }
   ],
   "source": [
    "# loop over the needle paths\n",
    "count = 0\n",
    "for p in needlePaths:\n",
    "    # load the image from disk\n",
    "    image = cv2.imread(p)\n",
    "    # if the image is None then we could not load it from disk (so\n",
    "    # skip it)\n",
    "    if image is None:\n",
    "        continue\n",
    "    # convert the image to grayscale and compute the hash\n",
    "    image = cv2.cvtColor(image, cv2.COLOR_BGR2GRAY)\n",
    "    imageHash = dhash(image)\n",
    "    # grab all image paths that match the hash\n",
    "    matchedPaths = haystack.get(imageHash, [])\n",
    "    # loop over all matched paths\n",
    "    for matchedPath in matchedPaths:\n",
    "        \n",
    "        # extract the subdirectory from the image path\n",
    "        b = p.split(os.path.sep)[-2]\n",
    "        # if the subdirectory exists in the base path for the needle\n",
    "        # images, remove it\n",
    "        if b in BASE_PATHS:\n",
    "            count += 1\n",
    "print(count)"
   ]
  },
  {
   "cell_type": "code",
   "execution_count": 39,
   "id": "polish-financing",
   "metadata": {},
   "outputs": [
    {
     "name": "stdout",
     "output_type": "stream",
     "text": [
      "[INFO] check the following directories...\n",
      "[INFO] ACACAURI\n"
     ]
    }
   ],
   "source": [
    "# display directories to check\n",
    "print(\"[INFO] check the following directories...\")\n",
    "# loop over each subdirectory and display it\n",
    "for b in BASE_PATHS:\n",
    "\tprint(\"[INFO] {}\".format(b))"
   ]
  },
  {
   "cell_type": "code",
   "execution_count": null,
   "id": "capital-korea",
   "metadata": {},
   "outputs": [],
   "source": []
  }
 ],
 "metadata": {
  "kernelspec": {
   "display_name": "Python 3",
   "language": "python",
   "name": "python3"
  },
  "language_info": {
   "codemirror_mode": {
    "name": "ipython",
    "version": 3
   },
   "file_extension": ".py",
   "mimetype": "text/x-python",
   "name": "python",
   "nbconvert_exporter": "python",
   "pygments_lexer": "ipython3",
   "version": "3.8.5"
  }
 },
 "nbformat": 4,
 "nbformat_minor": 5
}
