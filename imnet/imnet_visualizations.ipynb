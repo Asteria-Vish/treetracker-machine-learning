{
  "nbformat": 4,
  "nbformat_minor": 0,
  "metadata": {
    "colab": {
      "name": "imnet_visualizations.ipynb",
      "provenance": [],
      "authorship_tag": "ABX9TyMMO70Q57v9QO7z9gV6/VLn",
      "include_colab_link": true
    },
    "kernelspec": {
      "name": "python3",
      "display_name": "Python 3"
    }
  },
  "cells": [
    {
      "cell_type": "markdown",
      "metadata": {
        "id": "view-in-github",
        "colab_type": "text"
      },
      "source": [
        "<a href=\"https://colab.research.google.com/github/shubhomb/greenstand_data_analysis/blob/master/imnet/imnet_visualizations.ipynb\" target=\"_parent\"><img src=\"https://colab.research.google.com/assets/colab-badge.svg\" alt=\"Open In Colab\"/></a>"
      ]
    },
    {
      "cell_type": "markdown",
      "metadata": {
        "id": "jm_bFE0s75IX",
        "colab_type": "text"
      },
      "source": [
        "## Authentication and Dependencies"
      ]
    },
    {
      "cell_type": "code",
      "metadata": {
        "id": "m4wOem6T71sW",
        "colab_type": "code",
        "colab": {
          "base_uri": "https://localhost:8080/",
          "height": 129
        },
        "outputId": "956708a8-ba2a-48f3-ba40-210aefec6550"
      },
      "source": [
        "\n",
        "# how to access GDrive https://colab.research.google.com/notebooks/io.ipynb#scrollTo=RWSJpsyKqHjH\n",
        "from google.colab import files, drive\n",
        "import os\n",
        "drive.mount('/content/drive')\n",
        "gdir = os.path.join(os.getcwd(), \"drive\", \"My Drive\")\n"
      ],
      "execution_count": null,
      "outputs": [
        {
          "output_type": "stream",
          "text": [
            "Go to this URL in a browser: https://accounts.google.com/o/oauth2/auth?client_id=947318989803-6bn6qk8qdgf4n4g3pfee6491hc0brc4i.apps.googleusercontent.com&redirect_uri=urn%3aietf%3awg%3aoauth%3a2.0%3aoob&scope=email%20https%3a%2f%2fwww.googleapis.com%2fauth%2fdocs.test%20https%3a%2f%2fwww.googleapis.com%2fauth%2fdrive%20https%3a%2f%2fwww.googleapis.com%2fauth%2fdrive.photos.readonly%20https%3a%2f%2fwww.googleapis.com%2fauth%2fpeopleapi.readonly&response_type=code\n",
            "\n",
            "Enter your authorization code:\n",
            "··········\n",
            "Mounted at /content/drive\n"
          ],
          "name": "stdout"
        }
      ]
    },
    {
      "cell_type": "markdown",
      "metadata": {
        "id": "XyXs_XQF8yuE",
        "colab_type": "text"
      },
      "source": [
        "### Imports"
      ]
    },
    {
      "cell_type": "code",
      "metadata": {
        "id": "BcyMynhi8oHf",
        "colab_type": "code",
        "colab": {}
      },
      "source": [
        "import os\n",
        "import numpy as np\n",
        "from PIL import Image, ImageDraw\n",
        "from xml.etree import ElementTree\n",
        "import matplotlib.pyplot as plt\n",
        "import pandas as pd"
      ],
      "execution_count": null,
      "outputs": []
    },
    {
      "cell_type": "markdown",
      "metadata": {
        "id": "2MBYU-Lt80dL",
        "colab_type": "text"
      },
      "source": [
        "### ImageNet Data Directory and Bounding Box Parsing"
      ]
    },
    {
      "cell_type": "code",
      "metadata": {
        "id": "EfWfFmqX78cB",
        "colab_type": "code",
        "colab": {}
      },
      "source": [
        "path = \"/content/drive/My Drive/data/imnet\"\n",
        "test_path = \"/content/drive/My Drive/data/test_greenstand_samples\"\n",
        "img_dir = os.path.join(path, \"original_images\")\n",
        "bb_dir = os.path.join(path, \"bounding_boxes\")\n",
        "\n",
        "\n",
        "synsets = {\n",
        "    \"judas\": \"n12513613\",\n",
        "    \"palm\": \"n12582231\",\n",
        "    \"pine\": \"n11608250\",\n",
        "    \"china tree\": \"n12741792\",\n",
        "    \"fig\": \"n12401684\",\n",
        "    \"cabbage\": \"n12478768\",\n",
        "    \"cacao\": \"n12201580\",\n",
        "    \"kapok\": \"n12190410\",\n",
        "    \"iron\": \"n12317296\",\n",
        "    \"linden\": \"n12202936\",\n",
        "    \"pepper\": \"n12765115\",\n",
        "    \"rain\": \"n11759853\",\n",
        "    \"dita\": \"n11770256\",\n",
        "    \"alder\": \"n12284262\",\n",
        "    \"silk\": \"n11759404\",\n",
        "    \"coral\": \"n12527738\",\n",
        "    \"huisache\": \"n11757851\",\n",
        "    \"fringe\": \"n12302071\",\n",
        "    \"dogwood\": \"n12946849\",\n",
        "    \"cork\": \"n12713866\",\n",
        "    \"ginkgo\": \"n11664418\",\n",
        "    \"golden shower\": \"n12492106\",\n",
        "    \"balata\": \"n12774299\",\n",
        "    \"baobab\": \"n12189987\",\n",
        "    \"sorrel\": \"n12242409\",\n",
        "    \"Japanese pagoda\": \"n12570394\",\n",
        "    \"Kentucky coffee\": \"n12496427\",\n",
        "    \"Logwood\": \"n12496949\"\n",
        "}\n",
        "\n",
        "classes = list(synsets.keys())\n",
        "imgs = []\n",
        "class_imgs = {}\n",
        "for i in classes:\n",
        "  temp_imgs = list(sorted(os.listdir(os.path.join(img_dir, i))))\n",
        "  temp_imgs = [os.path.join(img_dir, i, f) for f in temp_imgs if os.path.splitext(f)[1] != \"tar\"]\n",
        "  class_imgs[i] = temp_imgs\n",
        "  imgs += temp_imgs\n",
        "bb_dict = {}\n",
        "for f, _, d in os.walk(bb_dir):\n",
        "  for file in d:\n",
        "    if os.path.splitext(file)[1] == \".xml\":\n",
        "      tree = ElementTree.parse(os.path.join(f, file))\n",
        "      root = tree.getroot()\n",
        "      obj = root.find(\"object\")\n",
        "      b = obj.find(\"bndbox\")\n",
        "      xmin = int(b.find(\"xmin\").text)\n",
        "      ymin = int(b.find(\"ymin\").text)\n",
        "      xmax = int(b.find(\"xmax\").text)\n",
        "      ymax = int(b.find(\"ymax\").text)\n",
        "      bb_dict[os.path.join(f, file)] =  (xmin, ymin, xmax, ymax)\n",
        "\n"
      ],
      "execution_count": null,
      "outputs": []
    },
    {
      "cell_type": "code",
      "metadata": {
        "id": "Zvb90I-tDaMA",
        "colab_type": "code",
        "colab": {}
      },
      "source": [
        "df_counts = {}\n",
        "totimgs = 0\n",
        "totboxed = 0\n",
        "for k, v in synsets.items():\n",
        "  totboxed += len([c for c in bb_dict.keys() if k in c])\n",
        "  totimgs += len(class_imgs[k])\n",
        "  df_counts[k] = [len([c for c in bb_dict.keys() if k in c]), len(class_imgs[k])]\n",
        "print (\"Total number of images: \", totimgs)\n",
        "print (len(bb_dict.keys()), \" bounding boxed images\")\n",
        "\n",
        "assert len(bb_dict.keys()) == totboxed\n",
        "assert (len(imgs)) == totimgs\n",
        "\n",
        "df_counts = pd.DataFrame(df_counts).T\n",
        "df_counts.columns = [\"box labeled\", \"total\"]"
      ],
      "execution_count": null,
      "outputs": []
    },
    {
      "cell_type": "markdown",
      "metadata": {
        "id": "gXzYjRbCLuU1",
        "colab_type": "text"
      },
      "source": [
        "## See image/label frequencies"
      ]
    },
    {
      "cell_type": "code",
      "metadata": {
        "id": "Kw4hw73RDcp0",
        "colab_type": "code",
        "colab": {}
      },
      "source": [
        "df_counts"
      ],
      "execution_count": null,
      "outputs": []
    },
    {
      "cell_type": "code",
      "metadata": {
        "id": "p8Sia6djHgTR",
        "colab_type": "code",
        "colab": {}
      },
      "source": [
        "fig, ax = plt.subplots(figsize=(20,10))\n",
        "width = 0.35\n",
        "x = np.arange(df_counts.shape[0])\n",
        "rects1 = ax.bar(x - width/2, df_counts[\"box labeled\"], width, label='Box Labeled')\n",
        "rects2 = ax.bar(x + width/2, df_counts[\"total\"], width, label='Total')\n",
        "\n",
        "\n",
        "# Add some text for labels, title and custom x-axis tick labels, etc.\n",
        "ax.set_ylabel('Frequency')\n",
        "ax.set_title('Count ImageNet Data')\n",
        "ax.set_xticks(x)\n",
        "ax.set_xticklabels(df_counts.index, rotation=45)\n",
        "ax.legend()\n",
        "\n",
        "def autolabel(rects):\n",
        "    \"\"\"Attach a text label above each bar in *rects*, displaying its height.\"\"\"\n",
        "    for rect in rects:\n",
        "        height = rect.get_height()\n",
        "        ax.annotate('{}'.format(height),\n",
        "                    xy=(rect.get_x() + rect.get_width() / 2, height),\n",
        "                    xytext=(0, 3),  # 3 points vertical offset\n",
        "                    textcoords=\"offset points\",\n",
        "                    ha='center', va='bottom')\n",
        "\n",
        "autolabel(rects1)\n",
        "autolabel(rects2)\n",
        "\n",
        "fig.tight_layout()\n",
        "plt.show()"
      ],
      "execution_count": null,
      "outputs": []
    },
    {
      "cell_type": "code",
      "metadata": {
        "id": "Db8bYQyjL4e1",
        "colab_type": "code",
        "colab": {}
      },
      "source": [
        "import cv2\n",
        "imgs = [cv2.resize(cv2.imread(img), (64, 64)) for img in imgs]"
      ],
      "execution_count": null,
      "outputs": []
    },
    {
      "cell_type": "code",
      "metadata": {
        "id": "6YRlazUjIwh-",
        "colab_type": "code",
        "colab": {}
      },
      "source": [
        "from sklearn.manifold import TSNE\n",
        "from sklearn.decomposition import PCA\n",
        "\n",
        "tsne = TSNE(n_components=2, random_state=0)\n"
      ],
      "execution_count": null,
      "outputs": []
    }
  ]
}