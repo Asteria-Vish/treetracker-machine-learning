{
 "cells": [
  {
   "cell_type": "markdown",
   "id": "872e5378",
   "metadata": {},
   "source": [
    "## Small Dataset Full-Image Species Exploration \n",
    "\n",
    "In this notebook, we explore a portion of Haiti Tree Project (THTP) captures verified by Cam."
   ]
  },
  {
   "cell_type": "markdown",
   "id": "1f5bb193",
   "metadata": {},
   "source": [
    "### Dependencies"
   ]
  },
  {
   "cell_type": "code",
   "execution_count": 28,
   "id": "c3fca332",
   "metadata": {},
   "outputs": [],
   "source": [
    "import torch\n",
    "import numpy as np\n",
    "import pandas as pd\n",
    "import os\n",
    "import sklearn\n",
    "import matplotlib.cm as cm\n",
    "import matplotlib.pyplot as plt\n",
    "import urllib\n",
    "from PIL import Image\n",
    "\n",
    "from sklearn.manifold import TSNE\n",
    "\n",
    "import torchvision.models as models\n",
    "from torchvision.io import read_image\n",
    "from torchvision import datasets, transforms as T\n"
   ]
  },
  {
   "cell_type": "markdown",
   "id": "2068b09b",
   "metadata": {},
   "source": [
    "### Data Retrieval\n",
    " \n",
    " \n",
    "For now, download each image/label pair Cam has specified ([Github link](https://github.com/Greenstand/Tree_Species/tree/master/training))."
   ]
  },
  {
   "cell_type": "code",
   "execution_count": 3,
   "id": "e33c1e02",
   "metadata": {},
   "outputs": [
    {
     "data": {
      "text/html": [
       "<div>\n",
       "<style scoped>\n",
       "    .dataframe tbody tr th:only-of-type {\n",
       "        vertical-align: middle;\n",
       "    }\n",
       "\n",
       "    .dataframe tbody tr th {\n",
       "        vertical-align: top;\n",
       "    }\n",
       "\n",
       "    .dataframe thead th {\n",
       "        text-align: right;\n",
       "    }\n",
       "</style>\n",
       "<table border=\"1\" class=\"dataframe\">\n",
       "  <thead>\n",
       "    <tr style=\"text-align: right;\">\n",
       "      <th></th>\n",
       "      <th>class</th>\n",
       "      <th>imname</th>\n",
       "      <th>url</th>\n",
       "    </tr>\n",
       "  </thead>\n",
       "  <tbody>\n",
       "    <tr>\n",
       "      <th>0</th>\n",
       "      <td>ACACAURI</td>\n",
       "      <td>2020.11.29.12.18.36_18.285143729299307_-73.564...</td>\n",
       "      <td>https://treetracker-production-images.s3.eu-ce...</td>\n",
       "    </tr>\n",
       "    <tr>\n",
       "      <th>1</th>\n",
       "      <td>ACACAURI</td>\n",
       "      <td>2020.11.29.12.18.59_18.285102993249893_-73.564...</td>\n",
       "      <td>https://treetracker-production-images.s3.eu-ce...</td>\n",
       "    </tr>\n",
       "    <tr>\n",
       "      <th>2</th>\n",
       "      <td>ACACAURI</td>\n",
       "      <td>2020.11.29.12.47.34_18.290133895352483_-73.557...</td>\n",
       "      <td>https://treetracker-production-images.s3.eu-ce...</td>\n",
       "    </tr>\n",
       "    <tr>\n",
       "      <th>3</th>\n",
       "      <td>ACACAURI</td>\n",
       "      <td>2020.11.29.12.50.51_18.29083981923759_-73.5582...</td>\n",
       "      <td>https://treetracker-production-images.s3.eu-ce...</td>\n",
       "    </tr>\n",
       "    <tr>\n",
       "      <th>4</th>\n",
       "      <td>ACACAURI</td>\n",
       "      <td>2020.11.29.13.29.55_18.29298411961645_-73.5581...</td>\n",
       "      <td>https://treetracker-production-images.s3.eu-ce...</td>\n",
       "    </tr>\n",
       "  </tbody>\n",
       "</table>\n",
       "</div>"
      ],
      "text/plain": [
       "      class                                             imname  \\\n",
       "0  ACACAURI  2020.11.29.12.18.36_18.285143729299307_-73.564...   \n",
       "1  ACACAURI  2020.11.29.12.18.59_18.285102993249893_-73.564...   \n",
       "2  ACACAURI  2020.11.29.12.47.34_18.290133895352483_-73.557...   \n",
       "3  ACACAURI  2020.11.29.12.50.51_18.29083981923759_-73.5582...   \n",
       "4  ACACAURI  2020.11.29.13.29.55_18.29298411961645_-73.5581...   \n",
       "\n",
       "                                                 url  \n",
       "0  https://treetracker-production-images.s3.eu-ce...  \n",
       "1  https://treetracker-production-images.s3.eu-ce...  \n",
       "2  https://treetracker-production-images.s3.eu-ce...  \n",
       "3  https://treetracker-production-images.s3.eu-ce...  \n",
       "4  https://treetracker-production-images.s3.eu-ce...  "
      ]
     },
     "execution_count": 3,
     "metadata": {},
     "output_type": "execute_result"
    }
   ],
   "source": [
    "datadir = \"/home/ec2-user/SageMaker/treetracker-machine-learning/sample_datasets/Haiti/cam_training.psv\"\n",
    "baseurl = \"https://treetracker-production-images.s3.eu-central-1.amazonaws.com/\"\n",
    "assert os.path.exists(datadir)\n",
    "data = pd.read_csv(datadir, sep=\"|\", header=None)\n",
    "data.columns = [\"class\", \"imname\"]\n",
    "data[\"url\"] = baseurl + data[\"imname\"]\n",
    "data.head(5)"
   ]
  },
  {
   "cell_type": "code",
   "execution_count": 4,
   "id": "62292095",
   "metadata": {},
   "outputs": [
    {
     "data": {
      "text/plain": [
       "0      (/home/ec2-user/SageMaker/treetracker-machine-...\n",
       "1      (/home/ec2-user/SageMaker/treetracker-machine-...\n",
       "2      (/home/ec2-user/SageMaker/treetracker-machine-...\n",
       "3      (/home/ec2-user/SageMaker/treetracker-machine-...\n",
       "4      (/home/ec2-user/SageMaker/treetracker-machine-...\n",
       "                             ...                        \n",
       "383    (/home/ec2-user/SageMaker/treetracker-machine-...\n",
       "384    (/home/ec2-user/SageMaker/treetracker-machine-...\n",
       "385    (/home/ec2-user/SageMaker/treetracker-machine-...\n",
       "386    (/home/ec2-user/SageMaker/treetracker-machine-...\n",
       "387    (/home/ec2-user/SageMaker/treetracker-machine-...\n",
       "Length: 388, dtype: object"
      ]
     },
     "execution_count": 4,
     "metadata": {},
     "output_type": "execute_result"
    }
   ],
   "source": [
    "savepath = \"/home/ec2-user/SageMaker/treetracker-machine-learning/sample_datasets/Haiti/\"\n",
    "for species in data[\"class\"].unique():\n",
    "    if not os.path.exists(os.path.join(savepath, species)):\n",
    "        os.makedirs(os.path.join(savepath, species))\n",
    "image_saver = lambda df: urllib.request.urlretrieve(df[\"url\"], os.path.join(savepath, df[\"class\"], df[\"imname\"]))\n",
    "data.apply(image_saver, axis=1)\n"
   ]
  },
  {
   "cell_type": "code",
   "execution_count": 17,
   "id": "33b9a4d7",
   "metadata": {},
   "outputs": [
    {
     "name": "stdout",
     "output_type": "stream",
     "text": [
      "388  total samples\n",
      "Class breakdown\n",
      "          imname  url\n",
      "class                \n",
      "ACACAURI     111  111\n",
      "ANACOCCI      53   53\n",
      "CATALONG      75   75\n",
      "MANGINDI     149  149\n",
      "4  classes\n"
     ]
    },
    {
     "data": {
      "text/plain": [
       "Text(0.5, 1.0, 'Count per class')"
      ]
     },
     "execution_count": 17,
     "metadata": {},
     "output_type": "execute_result"
    },
    {
     "data": {
      "image/png": "[encoded data removed]",
      "text/plain": [
       "<Figure size 432x288 with 1 Axes>"
      ]
     },
     "metadata": {
      "needs_background": "light"
     },
     "output_type": "display_data"
    }
   ],
   "source": [
    "print (data.shape[0], \" total samples\")\n",
    "print (\"Class breakdown\")\n",
    "count_by_class = data.groupby(\"class\").aggregate(\"count\")\n",
    "print (count_by_class)\n",
    "num_classes = data[\"class\"].unique().shape[0]\n",
    "print (num_classes, \" classes found\")\n",
    "plt.bar(count_by_class.index, count_by_class[\"imname\"])\n",
    "plt.grid()\n",
    "plt.xlabel(\"Species\")\n",
    "plt.ylabel(\"Frequency\")\n",
    "plt.title(\"Count per class\")"
   ]
  },
  {
   "cell_type": "code",
   "execution_count": 6,
   "id": "dccadc24",
   "metadata": {},
   "outputs": [],
   "source": [
    "arrs = []\n",
    "labels = []\n",
    "for species in data[\"class\"].unique():\n",
    "    for img in os.listdir(os.path.join(savepath, species)):\n",
    "        if os.path.splitext(os.path.join(savepath, species, img))[1].lower() in [\".jpg\", \".png\"]:\n",
    "            arrs.append(Image.open(os.path.join(savepath, species, img)).resize((224, 224)))\n",
    "            labels.append(species)\n",
    "            \n"
   ]
  },
  {
   "cell_type": "code",
   "execution_count": 7,
   "id": "11acbe8c",
   "metadata": {},
   "outputs": [],
   "source": [
    "X = np.vstack([np.asarray(img).flatten() for img in arrs])\n",
    "X_embedded = TSNE(n_components=2, perplexity=30.0, learning_rate=25.0, n_iter=10000).fit_transform(X)"
   ]
  },
  {
   "cell_type": "code",
   "execution_count": 8,
   "id": "2b42d663",
   "metadata": {},
   "outputs": [],
   "source": [
    "tsne_result = pd.DataFrame(X_embedded)\n",
    "tsne_result[\"class\"] = labels\n",
    "tsne_result.columns = [\"x0\", \"x1\", \"class\"]\n",
    "colors = np.linspace(0, 1, len(data[\"class\"].unique()))\n",
    "colordict = dict(zip(data[\"class\"].unique(), colors))  \n",
    "tsne_result[\"Color\"] = tsne_result[\"class\"].apply(lambda x: colordict[x])"
   ]
  },
  {
   "cell_type": "code",
   "execution_count": 9,
   "id": "6528f42d",
   "metadata": {},
   "outputs": [
    {
     "name": "stdout",
     "output_type": "stream",
     "text": [
      "         x0        x1     class  Color\n",
      "0  1.211671  0.520156  ACACAURI    0.0\n",
      "1 -2.495020  1.715525  ACACAURI    0.0\n",
      "2  0.939667  0.531585  ACACAURI    0.0\n",
      "3  0.131321  1.433267  ACACAURI    0.0\n",
      "4 -0.714383  0.572061  ACACAURI    0.0\n"
     ]
    }
   ],
   "source": [
    "print (tsne_result.head(5))"
   ]
  },
  {
   "cell_type": "code",
   "execution_count": 10,
   "id": "f3073b4f",
   "metadata": {},
   "outputs": [
    {
     "data": {
      "text/plain": [
       "<matplotlib.collections.PathCollection at 0x7ff2ab4ede48>"
      ]
     },
     "execution_count": 10,
     "metadata": {},
     "output_type": "execute_result"
    },
    {
     "data": {
      "image/png": "[encoded data removed]",
      "text/plain": [
       "<Figure size 432x288 with 1 Axes>"
      ]
     },
     "metadata": {
      "needs_background": "light"
     },
     "output_type": "display_data"
    }
   ],
   "source": [
    "plt.grid()\n",
    "plt.scatter(tsne_result[\"x0\"], tsne_result[\"x1\"], c=tsne_result[\"Color\"])\n"
   ]
  },
  {
   "cell_type": "code",
   "execution_count": 26,
   "id": "da680cec",
   "metadata": {},
   "outputs": [],
   "source": [
    "\n",
    "def set_parameter_requires_grad(model, feature_extracting):\n",
    "    if feature_extracting:\n",
    "        for param in model.parameters():\n",
    "            param.requires_grad = False\n",
    "            \n",
    "\n",
    "transform = T.Compose([T.Resize(512), T.CenterCrop(299), T.ToTensor()])\n",
    "\n",
    "inception = models.inception_v3(pretrained=True)\n",
    "set_parameter_requires_grad(inception, feature_extracting=True)\n",
    "num_ftrs = inception.AuxLogits.fc.in_features\n",
    "inception.AuxLogits.fc = torch.nn.Linear(num_ftrs, num_classes)\n",
    "# Handle the primary net\n",
    "num_ftrs = inception.fc.in_features\n",
    "inception.fc = torch.nn.Linear(num_ftrs,num_classes)\n",
    "\n",
    "params_to_update = []\n",
    "for name, param in inception.named_parameters():\n",
    "    if param.requires_grad:\n",
    "        params_to_update.append(param)\n",
    "\n",
    "device = torch.device(\"cuda:0\" if torch.cuda.is_available() else \"cpu\")\n",
    "criterion = torch.nn.CrossEntropyLoss()\n",
    "inception = inception.to(device)\n",
    "optimizer = torch.optim.Adam(params_to_update, lr=0.001)"
   ]
  },
  {
   "cell_type": "code",
   "execution_count": 12,
   "id": "84700493",
   "metadata": {},
   "outputs": [],
   "source": [
    "preds = [inception(transform(img)[None, ...]).detach().numpy() for img in arrs]"
   ]
  },
  {
   "cell_type": "code",
   "execution_count": 27,
   "id": "d99b8683",
   "metadata": {},
   "outputs": [
    {
     "name": "stdout",
     "output_type": "stream",
     "text": [
      "      class                                             imname  \\\n",
      "0  ACACAURI  2020.11.29.12.18.36_18.285143729299307_-73.564...   \n",
      "1  ACACAURI  2020.11.29.12.18.59_18.285102993249893_-73.564...   \n",
      "2  ACACAURI  2020.11.29.12.47.34_18.290133895352483_-73.557...   \n",
      "3  ACACAURI  2020.11.29.12.50.51_18.29083981923759_-73.5582...   \n",
      "4  ACACAURI  2020.11.29.13.29.55_18.29298411961645_-73.5581...   \n",
      "\n",
      "                                                 url  \n",
      "0  https://treetracker-production-images.s3.eu-ce...  \n",
      "1  https://treetracker-production-images.s3.eu-ce...  \n",
      "2  https://treetracker-production-images.s3.eu-ce...  \n",
      "3  https://treetracker-production-images.s3.eu-ce...  \n",
      "4  https://treetracker-production-images.s3.eu-ce...  \n"
     ]
    }
   ],
   "source": [
    "print (data.head(5))"
   ]
  },
  {
   "cell_type": "code",
   "execution_count": 38,
   "id": "16f9bd43",
   "metadata": {},
   "outputs": [],
   "source": [
    "class HaitiDataset(torch.utils.data.Dataset):\n",
    "    def __init__(self, df, loadpath, transform, encoding):\n",
    "        '''\n",
    "        A dataset with image names, classes, and a provided loading path to load images from\n",
    "        '''\n",
    "        self.loadpath = loadpath\n",
    "        self.data = df\n",
    "        self.n_classes = self.data[\"class\"].unique().shape[0]\n",
    "        self.transform = transform\n",
    "        self.numerical_encoding = dict(zip(list(self.data[\"class\"].unique()), list(range(self.n_classes))))\n",
    "    \n",
    "    def __len__(self):\n",
    "        return self.data.shape[0]\n",
    "    \n",
    "    def __getitem__(self, idx):\n",
    "        img_path = os.path.join(loadpath, self.data.iloc[i, :][\"imname\"])\n",
    "        label = self.data.iloc[i, :][\"class\"]\n",
    "        img = self.transform(read_image(img_path))\n",
    "        label = torch.nn.functional.one_hot(label, num_classes=self.n_classes)\n",
    "        return image, label\n",
    "        \n",
    "        "
   ]
  },
  {
   "cell_type": "code",
   "execution_count": 39,
   "id": "42ef0053",
   "metadata": {},
   "outputs": [],
   "source": [
    "dataset = HaitiDataset(data, savepath, transform, None)\n",
    "dataloader = DataLoader(dataset, )"
   ]
  },
  {
   "cell_type": "code",
   "execution_count": 40,
   "id": "fa317ee2",
   "metadata": {},
   "outputs": [
    {
     "ename": "ModuleAttributeError",
     "evalue": "'Inception3' object has no attribute 'fit'",
     "output_type": "error",
     "traceback": [
      "\u001b[0;31m---------------------------------------------------------------------------\u001b[0m",
      "\u001b[0;31mModuleAttributeError\u001b[0m                      Traceback (most recent call last)",
      "\u001b[0;32m<ipython-input-40-399014db5a3a>\u001b[0m in \u001b[0;36m<module>\u001b[0;34m\u001b[0m\n\u001b[0;32m----> 1\u001b[0;31m \u001b[0minception\u001b[0m\u001b[0;34m.\u001b[0m\u001b[0mfit\u001b[0m\u001b[0;34m(\u001b[0m\u001b[0mdataset\u001b[0m\u001b[0;34m)\u001b[0m\u001b[0;34m\u001b[0m\u001b[0;34m\u001b[0m\u001b[0m\n\u001b[0m",
      "\u001b[0;32m~/anaconda3/envs/pytorch_latest_p36/lib/python3.6/site-packages/torch/nn/modules/module.py\u001b[0m in \u001b[0;36m__getattr__\u001b[0;34m(self, name)\u001b[0m\n\u001b[1;32m    777\u001b[0m                 \u001b[0;32mreturn\u001b[0m \u001b[0mmodules\u001b[0m\u001b[0;34m[\u001b[0m\u001b[0mname\u001b[0m\u001b[0;34m]\u001b[0m\u001b[0;34m\u001b[0m\u001b[0;34m\u001b[0m\u001b[0m\n\u001b[1;32m    778\u001b[0m         raise ModuleAttributeError(\"'{}' object has no attribute '{}'\".format(\n\u001b[0;32m--> 779\u001b[0;31m             type(self).__name__, name))\n\u001b[0m\u001b[1;32m    780\u001b[0m \u001b[0;34m\u001b[0m\u001b[0m\n\u001b[1;32m    781\u001b[0m     \u001b[0;32mdef\u001b[0m \u001b[0m__setattr__\u001b[0m\u001b[0;34m(\u001b[0m\u001b[0mself\u001b[0m\u001b[0;34m,\u001b[0m \u001b[0mname\u001b[0m\u001b[0;34m:\u001b[0m \u001b[0mstr\u001b[0m\u001b[0;34m,\u001b[0m \u001b[0mvalue\u001b[0m\u001b[0;34m:\u001b[0m \u001b[0mUnion\u001b[0m\u001b[0;34m[\u001b[0m\u001b[0mTensor\u001b[0m\u001b[0;34m,\u001b[0m \u001b[0;34m'Module'\u001b[0m\u001b[0;34m]\u001b[0m\u001b[0;34m)\u001b[0m \u001b[0;34m->\u001b[0m \u001b[0;32mNone\u001b[0m\u001b[0;34m:\u001b[0m\u001b[0;34m\u001b[0m\u001b[0;34m\u001b[0m\u001b[0m\n",
      "\u001b[0;31mModuleAttributeError\u001b[0m: 'Inception3' object has no attribute 'fit'"
     ]
    }
   ],
   "source": [
    "for "
   ]
  },
  {
   "cell_type": "code",
   "execution_count": null,
   "id": "e8ee90f5",
   "metadata": {},
   "outputs": [],
   "source": []
  }
 ],
 "metadata": {
  "kernelspec": {
   "display_name": "conda_pytorch_latest_p36",
   "language": "python",
   "name": "conda_pytorch_latest_p36"
  },
  "language_info": {
   "codemirror_mode": {
    "name": "ipython",
    "version": 3
   },
   "file_extension": ".py",
   "mimetype": "text/x-python",
   "name": "python",
   "nbconvert_exporter": "python",
   "pygments_lexer": "ipython3",
   "version": "3.6.13"
  }
 },
 "nbformat": 4,
 "nbformat_minor": 5
}
