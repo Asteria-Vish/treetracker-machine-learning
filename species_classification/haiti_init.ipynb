{
 "cells": [
  {
   "cell_type": "markdown",
   "id": "dc7d09b4",
   "metadata": {},
   "source": [
    "## Small Dataset Full-Image Species Exploration \n",
    "\n",
    "In this notebook, we explore a portion of Haiti Tree Project (THTP) captures verified by Cam."
   ]
  },
  {
   "cell_type": "markdown",
   "id": "01be4ea1",
   "metadata": {},
   "source": [
    "### Dependencies"
   ]
  },
  {
   "cell_type": "code",
   "execution_count": 1,
   "id": "aa376f49",
   "metadata": {},
   "outputs": [],
   "source": [
    "import torch\n",
    "import numpy as np\n",
    "import pandas as pd\n",
    "import os\n",
    "import sklearn\n",
    "import matplotlib.cm as cm\n",
    "import matplotlib.pyplot as plt\n",
    "import urllib\n",
    "import time\n",
    "from PIL import Image\n",
    "\n",
    "from sklearn.manifold import TSNE\n",
    "from sklearn.model_selection import train_test_split\n",
    "\n",
    "import torchvision.models as models\n",
    "from torchvision.io import read_image\n",
    "import torchvision.transforms as T\n",
    "from torch.utils.data import Dataset, DataLoader\n",
    "\n",
    "torch.backends.cudnn.benchmark = True"
   ]
  },
  {
   "cell_type": "markdown",
   "id": "df9275e6",
   "metadata": {},
   "source": [
    "### Data Retrieval\n",
    " \n",
    " \n",
    "For now, download each image/label pair Cam has specified ([Github link](https://github.com/Greenstand/Tree_Species/tree/master/training))."
   ]
  },
  {
   "cell_type": "code",
   "execution_count": 2,
   "id": "fd5957f7",
   "metadata": {},
   "outputs": [
    {
     "data": {
      "text/html": [
       "<div>\n",
       "<style scoped>\n",
       "    .dataframe tbody tr th:only-of-type {\n",
       "        vertical-align: middle;\n",
       "    }\n",
       "\n",
       "    .dataframe tbody tr th {\n",
       "        vertical-align: top;\n",
       "    }\n",
       "\n",
       "    .dataframe thead th {\n",
       "        text-align: right;\n",
       "    }\n",
       "</style>\n",
       "<table border=\"1\" class=\"dataframe\">\n",
       "  <thead>\n",
       "    <tr style=\"text-align: right;\">\n",
       "      <th></th>\n",
       "      <th>class</th>\n",
       "      <th>imname</th>\n",
       "      <th>url</th>\n",
       "    </tr>\n",
       "  </thead>\n",
       "  <tbody>\n",
       "    <tr>\n",
       "      <th>0</th>\n",
       "      <td>ACACAURI</td>\n",
       "      <td>2020.11.29.12.18.36_18.285143729299307_-73.564...</td>\n",
       "      <td>https://treetracker-production-images.s3.eu-ce...</td>\n",
       "    </tr>\n",
       "    <tr>\n",
       "      <th>1</th>\n",
       "      <td>ACACAURI</td>\n",
       "      <td>2020.11.29.12.18.59_18.285102993249893_-73.564...</td>\n",
       "      <td>https://treetracker-production-images.s3.eu-ce...</td>\n",
       "    </tr>\n",
       "    <tr>\n",
       "      <th>2</th>\n",
       "      <td>ACACAURI</td>\n",
       "      <td>2020.11.29.12.47.34_18.290133895352483_-73.557...</td>\n",
       "      <td>https://treetracker-production-images.s3.eu-ce...</td>\n",
       "    </tr>\n",
       "    <tr>\n",
       "      <th>3</th>\n",
       "      <td>ACACAURI</td>\n",
       "      <td>2020.11.29.12.50.51_18.29083981923759_-73.5582...</td>\n",
       "      <td>https://treetracker-production-images.s3.eu-ce...</td>\n",
       "    </tr>\n",
       "    <tr>\n",
       "      <th>4</th>\n",
       "      <td>ACACAURI</td>\n",
       "      <td>2020.11.29.13.29.55_18.29298411961645_-73.5581...</td>\n",
       "      <td>https://treetracker-production-images.s3.eu-ce...</td>\n",
       "    </tr>\n",
       "  </tbody>\n",
       "</table>\n",
       "</div>"
      ],
      "text/plain": [
       "      class                                             imname  \\\n",
       "0  ACACAURI  2020.11.29.12.18.36_18.285143729299307_-73.564...   \n",
       "1  ACACAURI  2020.11.29.12.18.59_18.285102993249893_-73.564...   \n",
       "2  ACACAURI  2020.11.29.12.47.34_18.290133895352483_-73.557...   \n",
       "3  ACACAURI  2020.11.29.12.50.51_18.29083981923759_-73.5582...   \n",
       "4  ACACAURI  2020.11.29.13.29.55_18.29298411961645_-73.5581...   \n",
       "\n",
       "                                                 url  \n",
       "0  https://treetracker-production-images.s3.eu-ce...  \n",
       "1  https://treetracker-production-images.s3.eu-ce...  \n",
       "2  https://treetracker-production-images.s3.eu-ce...  \n",
       "3  https://treetracker-production-images.s3.eu-ce...  \n",
       "4  https://treetracker-production-images.s3.eu-ce...  "
      ]
     },
     "execution_count": 2,
     "metadata": {},
     "output_type": "execute_result"
    }
   ],
   "source": [
    "datadir = \"/home/ec2-user/SageMaker/treetracker-machine-learning/sample_datasets/Haiti/cam_training.psv\"\n",
    "baseurl = \"https://treetracker-production-images.s3.eu-central-1.amazonaws.com/\"\n",
    "assert os.path.exists(datadir)\n",
    "data = pd.read_csv(datadir, sep=\"|\", header=None)\n",
    "data.columns = [\"class\", \"imname\"]\n",
    "data[\"url\"] = baseurl + data[\"imname\"]\n",
    "data.head(5)"
   ]
  },
  {
   "cell_type": "code",
   "execution_count": 3,
   "id": "92cc07f7",
   "metadata": {},
   "outputs": [
    {
     "data": {
      "text/plain": [
       "0      (/home/ec2-user/SageMaker/treetracker-machine-...\n",
       "1      (/home/ec2-user/SageMaker/treetracker-machine-...\n",
       "2      (/home/ec2-user/SageMaker/treetracker-machine-...\n",
       "3      (/home/ec2-user/SageMaker/treetracker-machine-...\n",
       "4      (/home/ec2-user/SageMaker/treetracker-machine-...\n",
       "                             ...                        \n",
       "383    (/home/ec2-user/SageMaker/treetracker-machine-...\n",
       "384    (/home/ec2-user/SageMaker/treetracker-machine-...\n",
       "385    (/home/ec2-user/SageMaker/treetracker-machine-...\n",
       "386    (/home/ec2-user/SageMaker/treetracker-machine-...\n",
       "387    (/home/ec2-user/SageMaker/treetracker-machine-...\n",
       "Length: 388, dtype: object"
      ]
     },
     "execution_count": 3,
     "metadata": {},
     "output_type": "execute_result"
    }
   ],
   "source": [
    "savepath = \"/home/ec2-user/SageMaker/treetracker-machine-learning/sample_datasets/Haiti/\"\n",
    "for species in data[\"class\"].unique():\n",
    "    if not os.path.exists(os.path.join(savepath, species)):\n",
    "        os.makedirs(os.path.join(savepath, species))\n",
    "image_saver = lambda df: urllib.request.urlretrieve(df[\"url\"], os.path.join(savepath, df[\"class\"], df[\"imname\"]))\n",
    "data.apply(image_saver, axis=1)\n"
   ]
  },
  {
   "cell_type": "code",
   "execution_count": 4,
   "id": "737869cf",
   "metadata": {},
   "outputs": [
    {
     "name": "stdout",
     "output_type": "stream",
     "text": [
      "388  total samples\n",
      "Class breakdown\n",
      "          imname  url\n",
      "class                \n",
      "ACACAURI     111  111\n",
      "ANACOCCI      53   53\n",
      "CATALONG      75   75\n",
      "MANGINDI     149  149\n",
      "4  classes found\n"
     ]
    },
    {
     "data": {
      "text/plain": [
       "Text(0.5, 1.0, 'Count per class')"
      ]
     },
     "execution_count": 4,
     "metadata": {},
     "output_type": "execute_result"
    },
    {
     "data": {
      "image/png": "[encoded data removed]",
      "text/plain": [
       "<Figure size 432x288 with 1 Axes>"
      ]
     },
     "metadata": {
      "needs_background": "light"
     },
     "output_type": "display_data"
    }
   ],
   "source": [
    "print (data.shape[0], \" total samples\")\n",
    "print (\"Class breakdown\")\n",
    "count_by_class = data.groupby(\"class\").aggregate(\"count\")\n",
    "baseline_acc = np.max\n",
    "print (dict(zip(count_by_class.index, count_by_class.values[:, 0])))\n",
    "num_classes = data[\"class\"].unique().shape[0]\n",
    "print (num_classes, \" classes found\")\n",
    "plt.bar(count_by_class.index, count_by_class[\"imname\"])\n",
    "plt.grid()\n",
    "plt.xlabel(\"Species\")\n",
    "plt.ylabel(\"Frequency\")\n",
    "plt.title(\"Count per class\")"
   ]
  },
  {
   "cell_type": "code",
   "execution_count": 5,
   "id": "1caf3d4f",
   "metadata": {},
   "outputs": [],
   "source": [
    "arrs = []\n",
    "labels = []\n",
    "for species in data[\"class\"].unique():\n",
    "    for img in os.listdir(os.path.join(savepath, species)):\n",
    "        if os.path.splitext(os.path.join(savepath, species, img))[1].lower() in [\".jpg\", \".png\"]:\n",
    "            arrs.append(Image.open(os.path.join(savepath, species, img)).resize((224, 224)))\n",
    "            labels.append(species)\n",
    "            \n"
   ]
  },
  {
   "cell_type": "code",
   "execution_count": 6,
   "id": "76ccc84a",
   "metadata": {},
   "outputs": [],
   "source": [
    "X = np.vstack([np.asarray(img).flatten() for img in arrs])\n",
    "X_embedded = TSNE(n_components=2, perplexity=30.0, learning_rate=25.0, n_iter=10000).fit_transform(X)"
   ]
  },
  {
   "cell_type": "code",
   "execution_count": 7,
   "id": "df800ff9",
   "metadata": {},
   "outputs": [],
   "source": [
    "tsne_result = pd.DataFrame(X_embedded)\n",
    "tsne_result[\"class\"] = labels\n",
    "tsne_result.columns = [\"x0\", \"x1\", \"class\"]\n",
    "colors = np.linspace(0, 1, len(data[\"class\"].unique()))\n",
    "colordict = dict(zip(data[\"class\"].unique(), colors))  \n",
    "tsne_result[\"Color\"] = tsne_result[\"class\"].apply(lambda x: colordict[x])"
   ]
  },
  {
   "cell_type": "code",
   "execution_count": 8,
   "id": "2bfeacd9",
   "metadata": {},
   "outputs": [
    {
     "name": "stdout",
     "output_type": "stream",
     "text": [
      "         x0        x1     class  Color\n",
      "0  0.755226 -0.992364  ACACAURI    0.0\n",
      "1  1.142595  2.852109  ACACAURI    0.0\n",
      "2 -0.415559 -0.116691  ACACAURI    0.0\n",
      "3 -1.115901  1.229978  ACACAURI    0.0\n",
      "4  0.513012  0.835333  ACACAURI    0.0\n"
     ]
    }
   ],
   "source": [
    "print (tsne_result.head(5))"
   ]
  },
  {
   "cell_type": "code",
   "execution_count": 9,
   "id": "bfb81f14",
   "metadata": {},
   "outputs": [
    {
     "data": {
      "text/plain": [
       "<matplotlib.collections.PathCollection at 0x7fa07f070278>"
      ]
     },
     "execution_count": 9,
     "metadata": {},
     "output_type": "execute_result"
    },
    {
     "data": {
      "image/png": "[encoded data removed]",
      "text/plain": [
       "<Figure size 432x288 with 1 Axes>"
      ]
     },
     "metadata": {
      "needs_background": "light"
     },
     "output_type": "display_data"
    }
   ],
   "source": [
    "plt.grid()\n",
    "plt.scatter(tsne_result[\"x0\"], tsne_result[\"x1\"], c=tsne_result[\"Color\"])\n"
   ]
  },
  {
   "cell_type": "code",
   "execution_count": 28,
   "id": "7d8fd4fa",
   "metadata": {},
   "outputs": [
    {
     "name": "stdout",
     "output_type": "stream",
     "text": [
      "{'ACACAURI': 111, 'ANACOCCI': 53, 'CATALONG': 75, 'MANGINDI': 149}\n"
     ]
    }
   ],
   "source": []
  },
  {
   "cell_type": "code",
   "execution_count": 51,
   "id": "df2b739a",
   "metadata": {},
   "outputs": [
    {
     "name": "stdout",
     "output_type": "stream",
     "text": [
      "Device:  cuda:0\n"
     ]
    }
   ],
   "source": [
    "\n",
    "def set_parameter_requires_grad(model, feature_extracting):\n",
    "    if feature_extracting:\n",
    "        for param in model.parameters():\n",
    "            param.requires_grad = False\n",
    "            \n",
    "\n",
    "transform = T.Compose([T.Resize(512), T.CenterCrop(299), T.ToTensor()])\n",
    "\n",
    "inception = models.inception_v3(pretrained=True)\n",
    "set_parameter_requires_grad(inception, feature_extracting=True)\n",
    "num_ftrs = inception.AuxLogits.fc.in_features\n",
    "inception.AuxLogits.fc = torch.nn.Linear(num_ftrs, num_classes)\n",
    "# Handle the primary net\n",
    "num_ftrs = inception.fc.in_features\n",
    "inception.fc = torch.nn.Linear(num_ftrs,num_classes)\n",
    "\n",
    "params_to_update = []\n",
    "for name, param in inception.named_parameters():\n",
    "    if param.requires_grad:\n",
    "        params_to_update.append(param)\n",
    "\n",
    "device = torch.device(\"cuda:0\" if torch.cuda.is_available() else \"cpu\")\n",
    "print (\"Device: \", device)\n",
    "# class_weights = np.array([3/6, 6/6, 4/6, 2/6]) # this is 1/frequency sorry this is convoluted :D\n",
    "class_weights = np.ones(4)\n",
    "class_weights = class_weights / np.sum(class_weights)\n",
    "criterion = torch.nn.CrossEntropyLoss(reduction=\"mean\", weight=torch.Tensor(class_weights)).cuda()\n",
    "inception = inception.to(device)\n",
    "optimizer = torch.optim.Adam(params_to_update, lr=0.001)"
   ]
  },
  {
   "cell_type": "code",
   "execution_count": 11,
   "id": "233792ac",
   "metadata": {},
   "outputs": [
    {
     "ename": "ValueError",
     "evalue": "Expected more than 1 value per channel when training, got input size torch.Size([1, 768, 1, 1])",
     "output_type": "error",
     "traceback": [
      "\u001b[0;31m---------------------------------------------------------------------------\u001b[0m",
      "\u001b[0;31mValueError\u001b[0m                                Traceback (most recent call last)",
      "\u001b[0;32m<ipython-input-11-029853ab0ffe>\u001b[0m in \u001b[0;36m<module>\u001b[0;34m\u001b[0m\n\u001b[0;32m----> 1\u001b[0;31m \u001b[0mpreds\u001b[0m \u001b[0;34m=\u001b[0m \u001b[0;34m[\u001b[0m\u001b[0minception\u001b[0m\u001b[0;34m(\u001b[0m\u001b[0mtransform\u001b[0m\u001b[0;34m(\u001b[0m\u001b[0mimg\u001b[0m\u001b[0;34m)\u001b[0m\u001b[0;34m[\u001b[0m\u001b[0;32mNone\u001b[0m\u001b[0;34m,\u001b[0m \u001b[0;34m...\u001b[0m\u001b[0;34m]\u001b[0m\u001b[0;34m.\u001b[0m\u001b[0mto\u001b[0m\u001b[0;34m(\u001b[0m\u001b[0mdevice\u001b[0m\u001b[0;34m)\u001b[0m\u001b[0;34m)\u001b[0m\u001b[0;34m.\u001b[0m\u001b[0mdetach\u001b[0m\u001b[0;34m(\u001b[0m\u001b[0;34m)\u001b[0m\u001b[0;34m.\u001b[0m\u001b[0mnumpy\u001b[0m\u001b[0;34m(\u001b[0m\u001b[0;34m)\u001b[0m \u001b[0;32mfor\u001b[0m \u001b[0mimg\u001b[0m \u001b[0;32min\u001b[0m \u001b[0marrs\u001b[0m\u001b[0;34m]\u001b[0m\u001b[0;34m\u001b[0m\u001b[0;34m\u001b[0m\u001b[0m\n\u001b[0m",
      "\u001b[0;32m<ipython-input-11-029853ab0ffe>\u001b[0m in \u001b[0;36m<listcomp>\u001b[0;34m(.0)\u001b[0m\n\u001b[0;32m----> 1\u001b[0;31m \u001b[0mpreds\u001b[0m \u001b[0;34m=\u001b[0m \u001b[0;34m[\u001b[0m\u001b[0minception\u001b[0m\u001b[0;34m(\u001b[0m\u001b[0mtransform\u001b[0m\u001b[0;34m(\u001b[0m\u001b[0mimg\u001b[0m\u001b[0;34m)\u001b[0m\u001b[0;34m[\u001b[0m\u001b[0;32mNone\u001b[0m\u001b[0;34m,\u001b[0m \u001b[0;34m...\u001b[0m\u001b[0;34m]\u001b[0m\u001b[0;34m.\u001b[0m\u001b[0mto\u001b[0m\u001b[0;34m(\u001b[0m\u001b[0mdevice\u001b[0m\u001b[0;34m)\u001b[0m\u001b[0;34m)\u001b[0m\u001b[0;34m.\u001b[0m\u001b[0mdetach\u001b[0m\u001b[0;34m(\u001b[0m\u001b[0;34m)\u001b[0m\u001b[0;34m.\u001b[0m\u001b[0mnumpy\u001b[0m\u001b[0;34m(\u001b[0m\u001b[0;34m)\u001b[0m \u001b[0;32mfor\u001b[0m \u001b[0mimg\u001b[0m \u001b[0;32min\u001b[0m \u001b[0marrs\u001b[0m\u001b[0;34m]\u001b[0m\u001b[0;34m\u001b[0m\u001b[0;34m\u001b[0m\u001b[0m\n\u001b[0m",
      "\u001b[0;32m~/anaconda3/envs/pytorch_latest_p36/lib/python3.6/site-packages/torch/nn/modules/module.py\u001b[0m in \u001b[0;36m_call_impl\u001b[0;34m(self, *input, **kwargs)\u001b[0m\n\u001b[1;32m    725\u001b[0m             \u001b[0mresult\u001b[0m \u001b[0;34m=\u001b[0m \u001b[0mself\u001b[0m\u001b[0;34m.\u001b[0m\u001b[0m_slow_forward\u001b[0m\u001b[0;34m(\u001b[0m\u001b[0;34m*\u001b[0m\u001b[0minput\u001b[0m\u001b[0;34m,\u001b[0m \u001b[0;34m**\u001b[0m\u001b[0mkwargs\u001b[0m\u001b[0;34m)\u001b[0m\u001b[0;34m\u001b[0m\u001b[0;34m\u001b[0m\u001b[0m\n\u001b[1;32m    726\u001b[0m         \u001b[0;32melse\u001b[0m\u001b[0;34m:\u001b[0m\u001b[0;34m\u001b[0m\u001b[0;34m\u001b[0m\u001b[0m\n\u001b[0;32m--> 727\u001b[0;31m             \u001b[0mresult\u001b[0m \u001b[0;34m=\u001b[0m \u001b[0mself\u001b[0m\u001b[0;34m.\u001b[0m\u001b[0mforward\u001b[0m\u001b[0;34m(\u001b[0m\u001b[0;34m*\u001b[0m\u001b[0minput\u001b[0m\u001b[0;34m,\u001b[0m \u001b[0;34m**\u001b[0m\u001b[0mkwargs\u001b[0m\u001b[0;34m)\u001b[0m\u001b[0;34m\u001b[0m\u001b[0;34m\u001b[0m\u001b[0m\n\u001b[0m\u001b[1;32m    728\u001b[0m         for hook in itertools.chain(\n\u001b[1;32m    729\u001b[0m                 \u001b[0m_global_forward_hooks\u001b[0m\u001b[0;34m.\u001b[0m\u001b[0mvalues\u001b[0m\u001b[0;34m(\u001b[0m\u001b[0;34m)\u001b[0m\u001b[0;34m,\u001b[0m\u001b[0;34m\u001b[0m\u001b[0;34m\u001b[0m\u001b[0m\n",
      "\u001b[0;32m~/anaconda3/envs/pytorch_latest_p36/lib/python3.6/site-packages/torchvision/models/inception.py\u001b[0m in \u001b[0;36mforward\u001b[0;34m(self, x)\u001b[0m\n\u001b[1;32m    197\u001b[0m     \u001b[0;32mdef\u001b[0m \u001b[0mforward\u001b[0m\u001b[0;34m(\u001b[0m\u001b[0mself\u001b[0m\u001b[0;34m,\u001b[0m \u001b[0mx\u001b[0m\u001b[0;34m)\u001b[0m\u001b[0;34m:\u001b[0m\u001b[0;34m\u001b[0m\u001b[0;34m\u001b[0m\u001b[0m\n\u001b[1;32m    198\u001b[0m         \u001b[0mx\u001b[0m \u001b[0;34m=\u001b[0m \u001b[0mself\u001b[0m\u001b[0;34m.\u001b[0m\u001b[0m_transform_input\u001b[0m\u001b[0;34m(\u001b[0m\u001b[0mx\u001b[0m\u001b[0;34m)\u001b[0m\u001b[0;34m\u001b[0m\u001b[0;34m\u001b[0m\u001b[0m\n\u001b[0;32m--> 199\u001b[0;31m         \u001b[0mx\u001b[0m\u001b[0;34m,\u001b[0m \u001b[0maux\u001b[0m \u001b[0;34m=\u001b[0m \u001b[0mself\u001b[0m\u001b[0;34m.\u001b[0m\u001b[0m_forward\u001b[0m\u001b[0;34m(\u001b[0m\u001b[0mx\u001b[0m\u001b[0;34m)\u001b[0m\u001b[0;34m\u001b[0m\u001b[0;34m\u001b[0m\u001b[0m\n\u001b[0m\u001b[1;32m    200\u001b[0m         \u001b[0maux_defined\u001b[0m \u001b[0;34m=\u001b[0m \u001b[0mself\u001b[0m\u001b[0;34m.\u001b[0m\u001b[0mtraining\u001b[0m \u001b[0;32mand\u001b[0m \u001b[0mself\u001b[0m\u001b[0;34m.\u001b[0m\u001b[0maux_logits\u001b[0m\u001b[0;34m\u001b[0m\u001b[0;34m\u001b[0m\u001b[0m\n\u001b[1;32m    201\u001b[0m         \u001b[0;32mif\u001b[0m \u001b[0mtorch\u001b[0m\u001b[0;34m.\u001b[0m\u001b[0mjit\u001b[0m\u001b[0;34m.\u001b[0m\u001b[0mis_scripting\u001b[0m\u001b[0;34m(\u001b[0m\u001b[0;34m)\u001b[0m\u001b[0;34m:\u001b[0m\u001b[0;34m\u001b[0m\u001b[0;34m\u001b[0m\u001b[0m\n",
      "\u001b[0;32m~/anaconda3/envs/pytorch_latest_p36/lib/python3.6/site-packages/torchvision/models/inception.py\u001b[0m in \u001b[0;36m_forward\u001b[0;34m(self, x)\u001b[0m\n\u001b[1;32m    167\u001b[0m         \u001b[0maux_defined\u001b[0m \u001b[0;34m=\u001b[0m \u001b[0mself\u001b[0m\u001b[0;34m.\u001b[0m\u001b[0mtraining\u001b[0m \u001b[0;32mand\u001b[0m \u001b[0mself\u001b[0m\u001b[0;34m.\u001b[0m\u001b[0maux_logits\u001b[0m\u001b[0;34m\u001b[0m\u001b[0;34m\u001b[0m\u001b[0m\n\u001b[1;32m    168\u001b[0m         \u001b[0;32mif\u001b[0m \u001b[0maux_defined\u001b[0m\u001b[0;34m:\u001b[0m\u001b[0;34m\u001b[0m\u001b[0;34m\u001b[0m\u001b[0m\n\u001b[0;32m--> 169\u001b[0;31m             \u001b[0maux\u001b[0m \u001b[0;34m=\u001b[0m \u001b[0mself\u001b[0m\u001b[0;34m.\u001b[0m\u001b[0mAuxLogits\u001b[0m\u001b[0;34m(\u001b[0m\u001b[0mx\u001b[0m\u001b[0;34m)\u001b[0m\u001b[0;34m\u001b[0m\u001b[0;34m\u001b[0m\u001b[0m\n\u001b[0m\u001b[1;32m    170\u001b[0m         \u001b[0;32melse\u001b[0m\u001b[0;34m:\u001b[0m\u001b[0;34m\u001b[0m\u001b[0;34m\u001b[0m\u001b[0m\n\u001b[1;32m    171\u001b[0m             \u001b[0maux\u001b[0m \u001b[0;34m=\u001b[0m \u001b[0;32mNone\u001b[0m\u001b[0;34m\u001b[0m\u001b[0;34m\u001b[0m\u001b[0m\n",
      "\u001b[0;32m~/anaconda3/envs/pytorch_latest_p36/lib/python3.6/site-packages/torch/nn/modules/module.py\u001b[0m in \u001b[0;36m_call_impl\u001b[0;34m(self, *input, **kwargs)\u001b[0m\n\u001b[1;32m    725\u001b[0m             \u001b[0mresult\u001b[0m \u001b[0;34m=\u001b[0m \u001b[0mself\u001b[0m\u001b[0;34m.\u001b[0m\u001b[0m_slow_forward\u001b[0m\u001b[0;34m(\u001b[0m\u001b[0;34m*\u001b[0m\u001b[0minput\u001b[0m\u001b[0;34m,\u001b[0m \u001b[0;34m**\u001b[0m\u001b[0mkwargs\u001b[0m\u001b[0;34m)\u001b[0m\u001b[0;34m\u001b[0m\u001b[0;34m\u001b[0m\u001b[0m\n\u001b[1;32m    726\u001b[0m         \u001b[0;32melse\u001b[0m\u001b[0;34m:\u001b[0m\u001b[0;34m\u001b[0m\u001b[0;34m\u001b[0m\u001b[0m\n\u001b[0;32m--> 727\u001b[0;31m             \u001b[0mresult\u001b[0m \u001b[0;34m=\u001b[0m \u001b[0mself\u001b[0m\u001b[0;34m.\u001b[0m\u001b[0mforward\u001b[0m\u001b[0;34m(\u001b[0m\u001b[0;34m*\u001b[0m\u001b[0minput\u001b[0m\u001b[0;34m,\u001b[0m \u001b[0;34m**\u001b[0m\u001b[0mkwargs\u001b[0m\u001b[0;34m)\u001b[0m\u001b[0;34m\u001b[0m\u001b[0;34m\u001b[0m\u001b[0m\n\u001b[0m\u001b[1;32m    728\u001b[0m         for hook in itertools.chain(\n\u001b[1;32m    729\u001b[0m                 \u001b[0m_global_forward_hooks\u001b[0m\u001b[0;34m.\u001b[0m\u001b[0mvalues\u001b[0m\u001b[0;34m(\u001b[0m\u001b[0;34m)\u001b[0m\u001b[0;34m,\u001b[0m\u001b[0;34m\u001b[0m\u001b[0;34m\u001b[0m\u001b[0m\n",
      "\u001b[0;32m~/anaconda3/envs/pytorch_latest_p36/lib/python3.6/site-packages/torchvision/models/inception.py\u001b[0m in \u001b[0;36mforward\u001b[0;34m(self, x)\u001b[0m\n\u001b[1;32m    417\u001b[0m         \u001b[0mx\u001b[0m \u001b[0;34m=\u001b[0m \u001b[0mself\u001b[0m\u001b[0;34m.\u001b[0m\u001b[0mconv0\u001b[0m\u001b[0;34m(\u001b[0m\u001b[0mx\u001b[0m\u001b[0;34m)\u001b[0m\u001b[0;34m\u001b[0m\u001b[0;34m\u001b[0m\u001b[0m\n\u001b[1;32m    418\u001b[0m         \u001b[0;31m# N x 128 x 5 x 5\u001b[0m\u001b[0;34m\u001b[0m\u001b[0;34m\u001b[0m\u001b[0;34m\u001b[0m\u001b[0m\n\u001b[0;32m--> 419\u001b[0;31m         \u001b[0mx\u001b[0m \u001b[0;34m=\u001b[0m \u001b[0mself\u001b[0m\u001b[0;34m.\u001b[0m\u001b[0mconv1\u001b[0m\u001b[0;34m(\u001b[0m\u001b[0mx\u001b[0m\u001b[0;34m)\u001b[0m\u001b[0;34m\u001b[0m\u001b[0;34m\u001b[0m\u001b[0m\n\u001b[0m\u001b[1;32m    420\u001b[0m         \u001b[0;31m# N x 768 x 1 x 1\u001b[0m\u001b[0;34m\u001b[0m\u001b[0;34m\u001b[0m\u001b[0;34m\u001b[0m\u001b[0m\n\u001b[1;32m    421\u001b[0m         \u001b[0;31m# Adaptive average pooling\u001b[0m\u001b[0;34m\u001b[0m\u001b[0;34m\u001b[0m\u001b[0;34m\u001b[0m\u001b[0m\n",
      "\u001b[0;32m~/anaconda3/envs/pytorch_latest_p36/lib/python3.6/site-packages/torch/nn/modules/module.py\u001b[0m in \u001b[0;36m_call_impl\u001b[0;34m(self, *input, **kwargs)\u001b[0m\n\u001b[1;32m    725\u001b[0m             \u001b[0mresult\u001b[0m \u001b[0;34m=\u001b[0m \u001b[0mself\u001b[0m\u001b[0;34m.\u001b[0m\u001b[0m_slow_forward\u001b[0m\u001b[0;34m(\u001b[0m\u001b[0;34m*\u001b[0m\u001b[0minput\u001b[0m\u001b[0;34m,\u001b[0m \u001b[0;34m**\u001b[0m\u001b[0mkwargs\u001b[0m\u001b[0;34m)\u001b[0m\u001b[0;34m\u001b[0m\u001b[0;34m\u001b[0m\u001b[0m\n\u001b[1;32m    726\u001b[0m         \u001b[0;32melse\u001b[0m\u001b[0;34m:\u001b[0m\u001b[0;34m\u001b[0m\u001b[0;34m\u001b[0m\u001b[0m\n\u001b[0;32m--> 727\u001b[0;31m             \u001b[0mresult\u001b[0m \u001b[0;34m=\u001b[0m \u001b[0mself\u001b[0m\u001b[0;34m.\u001b[0m\u001b[0mforward\u001b[0m\u001b[0;34m(\u001b[0m\u001b[0;34m*\u001b[0m\u001b[0minput\u001b[0m\u001b[0;34m,\u001b[0m \u001b[0;34m**\u001b[0m\u001b[0mkwargs\u001b[0m\u001b[0;34m)\u001b[0m\u001b[0;34m\u001b[0m\u001b[0;34m\u001b[0m\u001b[0m\n\u001b[0m\u001b[1;32m    728\u001b[0m         for hook in itertools.chain(\n\u001b[1;32m    729\u001b[0m                 \u001b[0m_global_forward_hooks\u001b[0m\u001b[0;34m.\u001b[0m\u001b[0mvalues\u001b[0m\u001b[0;34m(\u001b[0m\u001b[0;34m)\u001b[0m\u001b[0;34m,\u001b[0m\u001b[0;34m\u001b[0m\u001b[0;34m\u001b[0m\u001b[0m\n",
      "\u001b[0;32m~/anaconda3/envs/pytorch_latest_p36/lib/python3.6/site-packages/torchvision/models/inception.py\u001b[0m in \u001b[0;36mforward\u001b[0;34m(self, x)\u001b[0m\n\u001b[1;32m    438\u001b[0m     \u001b[0;32mdef\u001b[0m \u001b[0mforward\u001b[0m\u001b[0;34m(\u001b[0m\u001b[0mself\u001b[0m\u001b[0;34m,\u001b[0m \u001b[0mx\u001b[0m\u001b[0;34m)\u001b[0m\u001b[0;34m:\u001b[0m\u001b[0;34m\u001b[0m\u001b[0;34m\u001b[0m\u001b[0m\n\u001b[1;32m    439\u001b[0m         \u001b[0mx\u001b[0m \u001b[0;34m=\u001b[0m \u001b[0mself\u001b[0m\u001b[0;34m.\u001b[0m\u001b[0mconv\u001b[0m\u001b[0;34m(\u001b[0m\u001b[0mx\u001b[0m\u001b[0;34m)\u001b[0m\u001b[0;34m\u001b[0m\u001b[0;34m\u001b[0m\u001b[0m\n\u001b[0;32m--> 440\u001b[0;31m         \u001b[0mx\u001b[0m \u001b[0;34m=\u001b[0m \u001b[0mself\u001b[0m\u001b[0;34m.\u001b[0m\u001b[0mbn\u001b[0m\u001b[0;34m(\u001b[0m\u001b[0mx\u001b[0m\u001b[0;34m)\u001b[0m\u001b[0;34m\u001b[0m\u001b[0;34m\u001b[0m\u001b[0m\n\u001b[0m\u001b[1;32m    441\u001b[0m         \u001b[0;32mreturn\u001b[0m \u001b[0mF\u001b[0m\u001b[0;34m.\u001b[0m\u001b[0mrelu\u001b[0m\u001b[0;34m(\u001b[0m\u001b[0mx\u001b[0m\u001b[0;34m,\u001b[0m \u001b[0minplace\u001b[0m\u001b[0;34m=\u001b[0m\u001b[0;32mTrue\u001b[0m\u001b[0;34m)\u001b[0m\u001b[0;34m\u001b[0m\u001b[0;34m\u001b[0m\u001b[0m\n",
      "\u001b[0;32m~/anaconda3/envs/pytorch_latest_p36/lib/python3.6/site-packages/torch/nn/modules/module.py\u001b[0m in \u001b[0;36m_call_impl\u001b[0;34m(self, *input, **kwargs)\u001b[0m\n\u001b[1;32m    725\u001b[0m             \u001b[0mresult\u001b[0m \u001b[0;34m=\u001b[0m \u001b[0mself\u001b[0m\u001b[0;34m.\u001b[0m\u001b[0m_slow_forward\u001b[0m\u001b[0;34m(\u001b[0m\u001b[0;34m*\u001b[0m\u001b[0minput\u001b[0m\u001b[0;34m,\u001b[0m \u001b[0;34m**\u001b[0m\u001b[0mkwargs\u001b[0m\u001b[0;34m)\u001b[0m\u001b[0;34m\u001b[0m\u001b[0;34m\u001b[0m\u001b[0m\n\u001b[1;32m    726\u001b[0m         \u001b[0;32melse\u001b[0m\u001b[0;34m:\u001b[0m\u001b[0;34m\u001b[0m\u001b[0;34m\u001b[0m\u001b[0m\n\u001b[0;32m--> 727\u001b[0;31m             \u001b[0mresult\u001b[0m \u001b[0;34m=\u001b[0m \u001b[0mself\u001b[0m\u001b[0;34m.\u001b[0m\u001b[0mforward\u001b[0m\u001b[0;34m(\u001b[0m\u001b[0;34m*\u001b[0m\u001b[0minput\u001b[0m\u001b[0;34m,\u001b[0m \u001b[0;34m**\u001b[0m\u001b[0mkwargs\u001b[0m\u001b[0;34m)\u001b[0m\u001b[0;34m\u001b[0m\u001b[0;34m\u001b[0m\u001b[0m\n\u001b[0m\u001b[1;32m    728\u001b[0m         for hook in itertools.chain(\n\u001b[1;32m    729\u001b[0m                 \u001b[0m_global_forward_hooks\u001b[0m\u001b[0;34m.\u001b[0m\u001b[0mvalues\u001b[0m\u001b[0;34m(\u001b[0m\u001b[0;34m)\u001b[0m\u001b[0;34m,\u001b[0m\u001b[0;34m\u001b[0m\u001b[0;34m\u001b[0m\u001b[0m\n",
      "\u001b[0;32m~/anaconda3/envs/pytorch_latest_p36/lib/python3.6/site-packages/torch/nn/modules/batchnorm.py\u001b[0m in \u001b[0;36mforward\u001b[0;34m(self, input)\u001b[0m\n\u001b[1;32m    134\u001b[0m             \u001b[0mself\u001b[0m\u001b[0;34m.\u001b[0m\u001b[0mrunning_mean\u001b[0m \u001b[0;32mif\u001b[0m \u001b[0;32mnot\u001b[0m \u001b[0mself\u001b[0m\u001b[0;34m.\u001b[0m\u001b[0mtraining\u001b[0m \u001b[0;32mor\u001b[0m \u001b[0mself\u001b[0m\u001b[0;34m.\u001b[0m\u001b[0mtrack_running_stats\u001b[0m \u001b[0;32melse\u001b[0m \u001b[0;32mNone\u001b[0m\u001b[0;34m,\u001b[0m\u001b[0;34m\u001b[0m\u001b[0;34m\u001b[0m\u001b[0m\n\u001b[1;32m    135\u001b[0m             \u001b[0mself\u001b[0m\u001b[0;34m.\u001b[0m\u001b[0mrunning_var\u001b[0m \u001b[0;32mif\u001b[0m \u001b[0;32mnot\u001b[0m \u001b[0mself\u001b[0m\u001b[0;34m.\u001b[0m\u001b[0mtraining\u001b[0m \u001b[0;32mor\u001b[0m \u001b[0mself\u001b[0m\u001b[0;34m.\u001b[0m\u001b[0mtrack_running_stats\u001b[0m \u001b[0;32melse\u001b[0m \u001b[0;32mNone\u001b[0m\u001b[0;34m,\u001b[0m\u001b[0;34m\u001b[0m\u001b[0;34m\u001b[0m\u001b[0m\n\u001b[0;32m--> 136\u001b[0;31m             self.weight, self.bias, bn_training, exponential_average_factor, self.eps)\n\u001b[0m\u001b[1;32m    137\u001b[0m \u001b[0;34m\u001b[0m\u001b[0m\n\u001b[1;32m    138\u001b[0m \u001b[0;34m\u001b[0m\u001b[0m\n",
      "\u001b[0;32m~/anaconda3/envs/pytorch_latest_p36/lib/python3.6/site-packages/torch/nn/functional.py\u001b[0m in \u001b[0;36mbatch_norm\u001b[0;34m(input, running_mean, running_var, weight, bias, training, momentum, eps)\u001b[0m\n\u001b[1;32m   2052\u001b[0m                 bias=bias, training=training, momentum=momentum, eps=eps)\n\u001b[1;32m   2053\u001b[0m     \u001b[0;32mif\u001b[0m \u001b[0mtraining\u001b[0m\u001b[0;34m:\u001b[0m\u001b[0;34m\u001b[0m\u001b[0;34m\u001b[0m\u001b[0m\n\u001b[0;32m-> 2054\u001b[0;31m         \u001b[0m_verify_batch_size\u001b[0m\u001b[0;34m(\u001b[0m\u001b[0minput\u001b[0m\u001b[0;34m.\u001b[0m\u001b[0msize\u001b[0m\u001b[0;34m(\u001b[0m\u001b[0;34m)\u001b[0m\u001b[0;34m)\u001b[0m\u001b[0;34m\u001b[0m\u001b[0;34m\u001b[0m\u001b[0m\n\u001b[0m\u001b[1;32m   2055\u001b[0m \u001b[0;34m\u001b[0m\u001b[0m\n\u001b[1;32m   2056\u001b[0m     return torch.batch_norm(\n",
      "\u001b[0;32m~/anaconda3/envs/pytorch_latest_p36/lib/python3.6/site-packages/torch/nn/functional.py\u001b[0m in \u001b[0;36m_verify_batch_size\u001b[0;34m(size)\u001b[0m\n\u001b[1;32m   2035\u001b[0m         \u001b[0msize_prods\u001b[0m \u001b[0;34m*=\u001b[0m \u001b[0msize\u001b[0m\u001b[0;34m[\u001b[0m\u001b[0mi\u001b[0m \u001b[0;34m+\u001b[0m \u001b[0;36m2\u001b[0m\u001b[0;34m]\u001b[0m\u001b[0;34m\u001b[0m\u001b[0;34m\u001b[0m\u001b[0m\n\u001b[1;32m   2036\u001b[0m     \u001b[0;32mif\u001b[0m \u001b[0msize_prods\u001b[0m \u001b[0;34m==\u001b[0m \u001b[0;36m1\u001b[0m\u001b[0;34m:\u001b[0m\u001b[0;34m\u001b[0m\u001b[0;34m\u001b[0m\u001b[0m\n\u001b[0;32m-> 2037\u001b[0;31m         \u001b[0;32mraise\u001b[0m \u001b[0mValueError\u001b[0m\u001b[0;34m(\u001b[0m\u001b[0;34m'Expected more than 1 value per channel when training, got input size {}'\u001b[0m\u001b[0;34m.\u001b[0m\u001b[0mformat\u001b[0m\u001b[0;34m(\u001b[0m\u001b[0msize\u001b[0m\u001b[0;34m)\u001b[0m\u001b[0;34m)\u001b[0m\u001b[0;34m\u001b[0m\u001b[0;34m\u001b[0m\u001b[0m\n\u001b[0m\u001b[1;32m   2038\u001b[0m \u001b[0;34m\u001b[0m\u001b[0m\n\u001b[1;32m   2039\u001b[0m \u001b[0;34m\u001b[0m\u001b[0m\n",
      "\u001b[0;31mValueError\u001b[0m: Expected more than 1 value per channel when training, got input size torch.Size([1, 768, 1, 1])"
     ]
    }
   ],
   "source": [
    "# this cell doesn't work but doesn't matter right now :D \n",
    "preds = [inception(transform(img)[None, ...].to(device)).detach().numpy() for img in arrs]"
   ]
  },
  {
   "cell_type": "code",
   "execution_count": 12,
   "id": "785dfd20",
   "metadata": {},
   "outputs": [
    {
     "name": "stdout",
     "output_type": "stream",
     "text": [
      "      class                                             imname  \\\n",
      "0  ACACAURI  2020.11.29.12.18.36_18.285143729299307_-73.564...   \n",
      "1  ACACAURI  2020.11.29.12.18.59_18.285102993249893_-73.564...   \n",
      "2  ACACAURI  2020.11.29.12.47.34_18.290133895352483_-73.557...   \n",
      "3  ACACAURI  2020.11.29.12.50.51_18.29083981923759_-73.5582...   \n",
      "4  ACACAURI  2020.11.29.13.29.55_18.29298411961645_-73.5581...   \n",
      "\n",
      "                                                 url  \n",
      "0  https://treetracker-production-images.s3.eu-ce...  \n",
      "1  https://treetracker-production-images.s3.eu-ce...  \n",
      "2  https://treetracker-production-images.s3.eu-ce...  \n",
      "3  https://treetracker-production-images.s3.eu-ce...  \n",
      "4  https://treetracker-production-images.s3.eu-ce...  \n"
     ]
    }
   ],
   "source": [
    "print (data.head(5))"
   ]
  },
  {
   "cell_type": "code",
   "execution_count": 45,
   "id": "70c19b39",
   "metadata": {},
   "outputs": [],
   "source": [
    "class HaitiDataset(torch.utils.data.Dataset):\n",
    "    def __init__(self, df, loadpath, transform, encoding):\n",
    "        '''\n",
    "        A dataset with image names, classes, and a provided loading path to load images from\n",
    "        '''\n",
    "        self.loadpath = loadpath\n",
    "        self.data = df\n",
    "        self.n_classes = self.data[\"class\"].unique().shape[0]\n",
    "        self.transform = transform\n",
    "        self.numerical_encoding = dict(zip(list(self.data[\"class\"].unique()), list(range(self.n_classes))))\n",
    "    \n",
    "    def __len__(self):\n",
    "        return self.data.shape[0]\n",
    "    \n",
    "    def __getitem__(self, idx):\n",
    "        img_path = os.path.join(self.loadpath, self.data.iloc[idx, :][\"class\"], self.data.iloc[idx, :][\"imname\"])\n",
    "        label = self.data.iloc[idx, :][\"class\"]\n",
    "        img = self.transform(Image.open(img_path))\n",
    "        label = self.numerical_encoding[label]\n",
    "        return img, label\n",
    "        \n",
    "        "
   ]
  },
  {
   "cell_type": "code",
   "execution_count": 46,
   "id": "4a5fa18f",
   "metadata": {},
   "outputs": [],
   "source": [
    "val_split = 0.5\n",
    "idxs = np.arange(data.shape[0])\n",
    "np.random.shuffle(idxs)\n",
    "\n",
    "tr_idxs = idxs[:int (val_split * data.shape[0]), ...]\n",
    "val_idxs = idxs[int (val_split * data.shape[0]):, ...]\n",
    "\n",
    "tr_dataset = HaitiDataset(data.iloc[tr_idxs, :], savepath, transform, None)\n",
    "val_dataset = HaitiDataset(data.iloc[val_idxs, :], savepath, transform, None)\n",
    "\n",
    "tr_dataloader = DataLoader(tr_dataset, batch_size=4, shuffle=True, num_workers=2, pin_memory=True)\n",
    "val_dataloader = DataLoader(val_dataset, batch_size=val_idxs.shape[0], shuffle=True, num_workers=2, pin_memory=True)\n",
    "\n",
    "num_epochs = 20"
   ]
  },
  {
   "cell_type": "code",
   "execution_count": 52,
   "id": "d5da46f0",
   "metadata": {},
   "outputs": [
    {
     "name": "stdout",
     "output_type": "stream",
     "text": [
      "Epoch 1 finished in 11.903148 seconds\n",
      "Training/Validation Loss: 1.315917/ 1.722525\n",
      "Training/Validation Accuracy (percent): 40.206184 /19.587627\n",
      "========================================\n",
      "Epoch 2 finished in 12.350956 seconds\n",
      "Training/Validation Loss: 1.112887/ 2.025392\n",
      "Training/Validation Accuracy (percent): 47.938145 /22.680412\n",
      "========================================\n",
      "Epoch 3 finished in 12.101460 seconds\n",
      "Training/Validation Loss: 0.972952/ 2.062119\n",
      "Training/Validation Accuracy (percent): 57.216492 /10.309278\n",
      "========================================\n",
      "Epoch 4 finished in 12.038043 seconds\n",
      "Training/Validation Loss: 0.919268/ 2.432805\n",
      "Training/Validation Accuracy (percent): 62.886597 /15.979381\n",
      "========================================\n",
      "Epoch 5 finished in 11.821829 seconds\n",
      "Training/Validation Loss: 0.816380/ 2.594396\n",
      "Training/Validation Accuracy (percent): 67.525772 /10.824742\n",
      "========================================\n",
      "Epoch 6 finished in 12.033550 seconds\n",
      "Training/Validation Loss: 0.637707/ 2.762542\n",
      "Training/Validation Accuracy (percent): 76.804123 /11.340206\n",
      "========================================\n",
      "Epoch 7 finished in 12.100375 seconds\n",
      "Training/Validation Loss: 0.830264/ 2.864535\n",
      "Training/Validation Accuracy (percent): 68.556702 /12.371134\n",
      "========================================\n",
      "Epoch 8 finished in 11.946259 seconds\n",
      "Training/Validation Loss: 0.682232/ 2.648181\n",
      "Training/Validation Accuracy (percent): 76.288658 /9.793814\n",
      "========================================\n",
      "Epoch 9 finished in 11.873368 seconds\n",
      "Training/Validation Loss: 0.606571/ 3.129326\n",
      "Training/Validation Accuracy (percent): 76.288658 /8.247422\n",
      "========================================\n",
      "Epoch 10 finished in 11.916389 seconds\n",
      "Training/Validation Loss: 0.634444/ 2.936328\n",
      "Training/Validation Accuracy (percent): 75.257729 /7.216495\n",
      "========================================\n",
      "Epoch 11 finished in 12.032912 seconds\n",
      "Training/Validation Loss: 0.766424/ 3.046575\n",
      "Training/Validation Accuracy (percent): 63.402061 /9.278350\n",
      "========================================\n",
      "Epoch 12 finished in 11.978949 seconds\n",
      "Training/Validation Loss: 0.634372/ 3.346494\n",
      "Training/Validation Accuracy (percent): 75.257729 /11.340206\n",
      "========================================\n",
      "Epoch 13 finished in 12.035881 seconds\n",
      "Training/Validation Loss: 0.525307/ 3.196701\n",
      "Training/Validation Accuracy (percent): 83.505150 /9.278350\n",
      "========================================\n",
      "Epoch 14 finished in 11.946610 seconds\n",
      "Training/Validation Loss: 0.603207/ 3.106511\n",
      "Training/Validation Accuracy (percent): 73.195877 /8.762886\n",
      "========================================\n",
      "Epoch 15 finished in 12.155174 seconds\n",
      "Training/Validation Loss: 0.566654/ 3.815302\n",
      "Training/Validation Accuracy (percent): 78.350510 /9.278350\n",
      "========================================\n",
      "Epoch 16 finished in 12.101897 seconds\n",
      "Training/Validation Loss: 0.529384/ 3.343113\n",
      "Training/Validation Accuracy (percent): 78.865974 /6.701031\n",
      "========================================\n",
      "Epoch 17 finished in 11.783371 seconds\n",
      "Training/Validation Loss: 0.619859/ 3.649376\n",
      "Training/Validation Accuracy (percent): 76.804123 /6.185567\n",
      "========================================\n",
      "Epoch 18 finished in 12.110240 seconds\n",
      "Training/Validation Loss: 0.661752/ 3.468105\n",
      "Training/Validation Accuracy (percent): 71.649483 /6.701031\n",
      "========================================\n",
      "Epoch 19 finished in 11.916255 seconds\n",
      "Training/Validation Loss: 0.660965/ 3.732600\n",
      "Training/Validation Accuracy (percent): 73.711334 /8.247422\n",
      "========================================\n",
      "Epoch 20 finished in 11.994617 seconds\n",
      "Training/Validation Loss: 0.587633/ 3.627720\n",
      "Training/Validation Accuracy (percent): 81.443298 /7.731958\n",
      "========================================\n",
      "Finished training\n"
     ]
    }
   ],
   "source": [
    "for epoch in range(num_epochs):\n",
    "    running_loss = 0\n",
    "    start = time.time()\n",
    "    tr_acc_sum = 0\n",
    "    tr_samples = 0\n",
    "    n_tr_batches = 0\n",
    "    n_val_batches = 0\n",
    "    for batch_x, batch_y in tr_dataloader:\n",
    "        n_tr_batches += 1\n",
    "        batch_x = batch_x.to(device)\n",
    "        batch_y = batch_y.to(device)\n",
    "        optimizer.zero_grad()\n",
    "        output = inception.forward(batch_x)\n",
    "        loss = criterion(output.logits, batch_y)\n",
    "        loss.backward()\n",
    "        optimizer.step()\n",
    "        # print statistics\n",
    "        running_loss += loss.item()\n",
    "        tr_acc_sum += torch.sum(torch.argmax(output.logits, dim=1) == batch_y)\n",
    "        tr_samples += batch_y.size()[0]\n",
    "    with torch.no_grad():\n",
    "        val_samples = 0\n",
    "        running_val_loss = 0\n",
    "        val_acc_sum = 0\n",
    "        for val_x, val_y in val_dataloader:\n",
    "            n_val_batches += 1\n",
    "            val_x = val_x.to(device)\n",
    "            val_y = val_y.to(device)\n",
    "            val_output = inception.forward(val_x)\n",
    "            val_loss = criterion(val_output.logits, val_y)\n",
    "            running_val_loss += val_loss.item()\n",
    "            val_acc_sum += torch.sum(torch.argmax(val_output.logits, dim=1) == val_y) # wrote this way just in case there's batched validation\n",
    "            val_samples += val_y.size()[0]\n",
    "    print (\"Epoch %d finished in %f seconds\"%(epoch + 1, time.time() - start))\n",
    "    print (\"Training/Validation Loss: %f/ %f\"%(running_loss / n_tr_batches, val_loss / n_val_batches))\n",
    "    print (\"Training/Validation Accuracy (percent): %f /%f\"%(100 * tr_acc_sum / tr_samples, 100 * val_acc_sum / val_samples))\n",
    "    print (\"=\" * 40)\n",
    "print (\"Finished training\")"
   ]
  },
  {
   "cell_type": "code",
   "execution_count": null,
   "id": "5f601fda",
   "metadata": {},
   "outputs": [],
   "source": []
  }
 ],
 "metadata": {
  "kernelspec": {
   "display_name": "conda_pytorch_latest_p36",
   "language": "python",
   "name": "conda_pytorch_latest_p36"
  },
  "language_info": {
   "codemirror_mode": {
    "name": "ipython",
    "version": 3
   },
   "file_extension": ".py",
   "mimetype": "text/x-python",
   "name": "python",
   "nbconvert_exporter": "python",
   "pygments_lexer": "ipython3",
   "version": "3.6.13"
  }
 },
 "nbformat": 4,
 "nbformat_minor": 5
}
