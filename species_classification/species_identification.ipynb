{
  "nbformat": 4,
  "nbformat_minor": 0,
  "metadata": {
    "colab": {
      "name": "species_identification.ipynb",
      "provenance": [],
      "collapsed_sections": [
        "EpwgtmyOYl0_"
      ],
      "toc_visible": true
    },
    "kernelspec": {
      "name": "python3",
      "display_name": "Python 3"
    },
    "accelerator": "GPU",
    "widgets": {
      "application/vnd.jupyter.widget-state+json": {
        "9039bbc9691442c7bf4deb0d55cdbc11": {
          "model_module": "@jupyter-widgets/controls",
          "model_name": "HBoxModel",
          "state": {
            "_view_name": "HBoxView",
            "_dom_classes": [],
            "_model_name": "HBoxModel",
            "_view_module": "@jupyter-widgets/controls",
            "_model_module_version": "1.5.0",
            "_view_count": null,
            "_view_module_version": "1.5.0",
            "box_style": "",
            "layout": "IPY_MODEL_7f24d4596a2e413790c6087eae509f36",
            "_model_module": "@jupyter-widgets/controls",
            "children": [
              "IPY_MODEL_0c62c221481d4c82b33fa56e4f5ccd15",
              "IPY_MODEL_229100ddb0624787a4bc2fdf455f248a"
            ]
          }
        },
        "7f24d4596a2e413790c6087eae509f36": {
          "model_module": "@jupyter-widgets/base",
          "model_name": "LayoutModel",
          "state": {
            "_view_name": "LayoutView",
            "grid_template_rows": null,
            "right": null,
            "justify_content": null,
            "_view_module": "@jupyter-widgets/base",
            "overflow": null,
            "_model_module_version": "1.2.0",
            "_view_count": null,
            "flex_flow": null,
            "width": null,
            "min_width": null,
            "border": null,
            "align_items": null,
            "bottom": null,
            "_model_module": "@jupyter-widgets/base",
            "top": null,
            "grid_column": null,
            "overflow_y": null,
            "overflow_x": null,
            "grid_auto_flow": null,
            "grid_area": null,
            "grid_template_columns": null,
            "flex": null,
            "_model_name": "LayoutModel",
            "justify_items": null,
            "grid_row": null,
            "max_height": null,
            "align_content": null,
            "visibility": null,
            "align_self": null,
            "height": null,
            "min_height": null,
            "padding": null,
            "grid_auto_rows": null,
            "grid_gap": null,
            "max_width": null,
            "order": null,
            "_view_module_version": "1.2.0",
            "grid_template_areas": null,
            "object_position": null,
            "object_fit": null,
            "grid_auto_columns": null,
            "margin": null,
            "display": null,
            "left": null
          }
        },
        "0c62c221481d4c82b33fa56e4f5ccd15": {
          "model_module": "@jupyter-widgets/controls",
          "model_name": "FloatProgressModel",
          "state": {
            "_view_name": "ProgressView",
            "style": "IPY_MODEL_270b7d2e86df4f21b53096db34285ee7",
            "_dom_classes": [],
            "description": "100%",
            "_model_name": "FloatProgressModel",
            "bar_style": "success",
            "max": 46827520,
            "_view_module": "@jupyter-widgets/controls",
            "_model_module_version": "1.5.0",
            "value": 46827520,
            "_view_count": null,
            "_view_module_version": "1.5.0",
            "orientation": "horizontal",
            "min": 0,
            "description_tooltip": null,
            "_model_module": "@jupyter-widgets/controls",
            "layout": "IPY_MODEL_07b6b71d99bf422c924ddd702960f000"
          }
        },
        "229100ddb0624787a4bc2fdf455f248a": {
          "model_module": "@jupyter-widgets/controls",
          "model_name": "HTMLModel",
          "state": {
            "_view_name": "HTMLView",
            "style": "IPY_MODEL_cb56a832f5764d0098e211571f2238e5",
            "_dom_classes": [],
            "description": "",
            "_model_name": "HTMLModel",
            "placeholder": "​",
            "_view_module": "@jupyter-widgets/controls",
            "_model_module_version": "1.5.0",
            "value": " 44.7M/44.7M [00:09&lt;00:00, 4.87MB/s]",
            "_view_count": null,
            "_view_module_version": "1.5.0",
            "description_tooltip": null,
            "_model_module": "@jupyter-widgets/controls",
            "layout": "IPY_MODEL_bd7c25bd686b4ec797f24605e3da36e0"
          }
        },
        "270b7d2e86df4f21b53096db34285ee7": {
          "model_module": "@jupyter-widgets/controls",
          "model_name": "ProgressStyleModel",
          "state": {
            "_view_name": "StyleView",
            "_model_name": "ProgressStyleModel",
            "description_width": "initial",
            "_view_module": "@jupyter-widgets/base",
            "_model_module_version": "1.5.0",
            "_view_count": null,
            "_view_module_version": "1.2.0",
            "bar_color": null,
            "_model_module": "@jupyter-widgets/controls"
          }
        },
        "07b6b71d99bf422c924ddd702960f000": {
          "model_module": "@jupyter-widgets/base",
          "model_name": "LayoutModel",
          "state": {
            "_view_name": "LayoutView",
            "grid_template_rows": null,
            "right": null,
            "justify_content": null,
            "_view_module": "@jupyter-widgets/base",
            "overflow": null,
            "_model_module_version": "1.2.0",
            "_view_count": null,
            "flex_flow": null,
            "width": null,
            "min_width": null,
            "border": null,
            "align_items": null,
            "bottom": null,
            "_model_module": "@jupyter-widgets/base",
            "top": null,
            "grid_column": null,
            "overflow_y": null,
            "overflow_x": null,
            "grid_auto_flow": null,
            "grid_area": null,
            "grid_template_columns": null,
            "flex": null,
            "_model_name": "LayoutModel",
            "justify_items": null,
            "grid_row": null,
            "max_height": null,
            "align_content": null,
            "visibility": null,
            "align_self": null,
            "height": null,
            "min_height": null,
            "padding": null,
            "grid_auto_rows": null,
            "grid_gap": null,
            "max_width": null,
            "order": null,
            "_view_module_version": "1.2.0",
            "grid_template_areas": null,
            "object_position": null,
            "object_fit": null,
            "grid_auto_columns": null,
            "margin": null,
            "display": null,
            "left": null
          }
        },
        "cb56a832f5764d0098e211571f2238e5": {
          "model_module": "@jupyter-widgets/controls",
          "model_name": "DescriptionStyleModel",
          "state": {
            "_view_name": "StyleView",
            "_model_name": "DescriptionStyleModel",
            "description_width": "",
            "_view_module": "@jupyter-widgets/base",
            "_model_module_version": "1.5.0",
            "_view_count": null,
            "_view_module_version": "1.2.0",
            "_model_module": "@jupyter-widgets/controls"
          }
        },
        "bd7c25bd686b4ec797f24605e3da36e0": {
          "model_module": "@jupyter-widgets/base",
          "model_name": "LayoutModel",
          "state": {
            "_view_name": "LayoutView",
            "grid_template_rows": null,
            "right": null,
            "justify_content": null,
            "_view_module": "@jupyter-widgets/base",
            "overflow": null,
            "_model_module_version": "1.2.0",
            "_view_count": null,
            "flex_flow": null,
            "width": null,
            "min_width": null,
            "border": null,
            "align_items": null,
            "bottom": null,
            "_model_module": "@jupyter-widgets/base",
            "top": null,
            "grid_column": null,
            "overflow_y": null,
            "overflow_x": null,
            "grid_auto_flow": null,
            "grid_area": null,
            "grid_template_columns": null,
            "flex": null,
            "_model_name": "LayoutModel",
            "justify_items": null,
            "grid_row": null,
            "max_height": null,
            "align_content": null,
            "visibility": null,
            "align_self": null,
            "height": null,
            "min_height": null,
            "padding": null,
            "grid_auto_rows": null,
            "grid_gap": null,
            "max_width": null,
            "order": null,
            "_view_module_version": "1.2.0",
            "grid_template_areas": null,
            "object_position": null,
            "object_fit": null,
            "grid_auto_columns": null,
            "margin": null,
            "display": null,
            "left": null
          }
        }
      }
    }
  },
  "cells": [
    {
      "cell_type": "code",
      "metadata": {
        "id": "-91-0791rhpT",
        "colab_type": "code",
        "colab": {
          "base_uri": "https://localhost:8080/",
          "height": 122
        },
        "outputId": "2450ab51-3d1f-4bc8-e128-62331f1f5b2e"
      },
      "source": [
        "from google.colab import drive\n",
        "drive.mount('/gdrive')"
      ],
      "execution_count": 1,
      "outputs": [
        {
          "output_type": "stream",
          "text": [
            "Go to this URL in a browser: https://accounts.google.com/o/oauth2/auth?client_id=947318989803-6bn6qk8qdgf4n4g3pfee6491hc0brc4i.apps.googleusercontent.com&redirect_uri=urn%3aietf%3awg%3aoauth%3a2.0%3aoob&response_type=code&scope=email%20https%3a%2f%2fwww.googleapis.com%2fauth%2fdocs.test%20https%3a%2f%2fwww.googleapis.com%2fauth%2fdrive%20https%3a%2f%2fwww.googleapis.com%2fauth%2fdrive.photos.readonly%20https%3a%2f%2fwww.googleapis.com%2fauth%2fpeopleapi.readonly\n",
            "\n",
            "Enter your authorization code:\n",
            "··········\n",
            "Mounted at /gdrive\n"
          ],
          "name": "stdout"
        }
      ]
    },
    {
      "cell_type": "code",
      "metadata": {
        "id": "yr0RUlGN3y3s",
        "colab_type": "code",
        "colab": {}
      },
      "source": [
        "datadir = \"/gdrive/My Drive/\""
      ],
      "execution_count": 2,
      "outputs": []
    },
    {
      "cell_type": "code",
      "metadata": {
        "id": "fMEZJT30rA2t",
        "colab_type": "code",
        "colab": {}
      },
      "source": [
        "import numpy as np\n",
        "import pandas as pd\n",
        "import torch\n",
        "import os\n",
        "import cv2\n",
        "import urllib\n",
        "import random\n",
        "import torchvision\n",
        "random.seed(42) "
      ],
      "execution_count": 3,
      "outputs": []
    },
    {
      "cell_type": "markdown",
      "metadata": {
        "id": "EpwgtmyOYl0_",
        "colab_type": "text"
      },
      "source": [
        "#Downloading data"
      ]
    },
    {
      "cell_type": "code",
      "metadata": {
        "id": "aOu8jk8OrnIP",
        "colab_type": "code",
        "colab": {}
      },
      "source": [
        "species = [\"cordia africana\", \"croton\", \"eucalyptus\", \"gravilia\", \"rauvolfia cafffra\"]\n",
        "\n",
        "species_df = {}\n",
        "\n",
        "for i in species:\n",
        "  species_df[i] = pd.read_csv('{}{}.csv'.format(datadir, i)).values"
      ],
      "execution_count": null,
      "outputs": []
    },
    {
      "cell_type": "code",
      "metadata": {
        "id": "5YQLb6qCtam2",
        "colab_type": "code",
        "colab": {
          "base_uri": "https://localhost:8080/",
          "height": 190
        },
        "outputId": "2947c317-ca77-4112-db79-786850dfb905"
      },
      "source": [
        "species_df[\"rauvolfia cafffra\"][0:8]"
      ],
      "execution_count": null,
      "outputs": [
        {
          "output_type": "execute_result",
          "data": {
            "text/plain": [
              "array([['https://treetracker-production-images.s3.eu-central-1.amazonaws.com/2020.05.22.18.30.17_2962105b-1b6c-4f74-8a2e-af0b8c7267ec_IMG_20191126_180925_798699084.jpg'],\n",
              "       ['https://treetracker-production-images.s3.eu-central-1.amazonaws.com/2020.05.22.18.30.19_55cba901-10e7-46f1-9539-ac213cd23955_IMG_20191126_180942_-1950841047.jpg'],\n",
              "       ['https://treetracker-production-images.s3.eu-central-1.amazonaws.com/2020.05.22.18.30.20_58601598-269e-41f2-853c-905d687e1fe4_IMG_20191126_180957_-1128881177.jpg'],\n",
              "       ['https://treetracker-production-images.s3.eu-central-1.amazonaws.com/2020.05.22.18.30.21_ff5cadee-fcd0-4aae-bdb9-51ed2f26e7bd_IMG_20191126_181049_-263104524.jpg'],\n",
              "       ['https://treetracker-production-images.s3.eu-central-1.amazonaws.com/2020.05.22.18.30.31_07f717ba-6363-4b19-a507-aa4eac9f40ca_IMG_20191126_181306_-1254242593.jpg'],\n",
              "       ['https://treetracker-production-images.s3.eu-central-1.amazonaws.com/2020.05.22.18.30.33_60d31e46-ee86-46b6-a067-4f498bc2b744_IMG_20191126_181320_1900048582.jpg'],\n",
              "       ['https://treetracker-production-images.s3.eu-central-1.amazonaws.com/2020.05.22.18.30.34_9e3545f5-9c2b-4b13-a7ea-ff0c18b661dc_IMG_20191126_181338_-530907035.jpg'],\n",
              "       ['https://treetracker-production-images.s3.eu-central-1.amazonaws.com/2020.05.22.18.30.35_027e8caa-172f-4bf8-b0af-05160ec0cad2_IMG_20191126_181353_411324003.jpg']],\n",
              "      dtype=object)"
            ]
          },
          "metadata": {
            "tags": []
          },
          "execution_count": 41
        }
      ]
    },
    {
      "cell_type": "code",
      "metadata": {
        "id": "mGUh2lis3VBT",
        "colab_type": "code",
        "colab": {
          "base_uri": "https://localhost:8080/",
          "height": 51
        },
        "outputId": "587c4ccc-82aa-4431-ff79-cef4e7842714"
      },
      "source": [
        "def create_dir(name, datadir = datadir):\n",
        "  if not os.path.exists('{}{}'.format(datadir, name)):\n",
        "      os.makedirs(\"{}{}\".format(datadir, name))\n",
        "      print(\"Directory \" , name ,  \" Created \")\n",
        "  else:    \n",
        "      print(\"Directory \" , name ,  \" already exists\")\n",
        "\n",
        "create_dir(\"greenstand_train\")\n",
        "\n",
        "create_dir(\"greenstand_test\")"
      ],
      "execution_count": null,
      "outputs": [
        {
          "output_type": "stream",
          "text": [
            "Directory  greenstand_train  already exists\n",
            "Directory  greenstand_test  Created \n"
          ],
          "name": "stdout"
        }
      ]
    },
    {
      "cell_type": "code",
      "metadata": {
        "id": "SxTjuN194Vs0",
        "colab_type": "code",
        "colab": {
          "base_uri": "https://localhost:8080/",
          "height": 187
        },
        "outputId": "b7b616b8-a57f-46c5-8d5c-0f19cb38abc1"
      },
      "source": [
        "for key in species_df.keys():\n",
        "  create_dir(key, datadir+\"greenstand_train/\")\n",
        "  create_dir(key, datadir+\"greenstand_test/\")\n",
        "  data = list(species_df[key].flatten())\n",
        "  random.shuffle(data)\n",
        "\n",
        "  dir = \"{}greenstand_test/{}\".format(datadir, key)\n",
        "  for c, url in enumerate(data[:20]):\n",
        "    resource = urllib.request.urlopen(url)\n",
        "    output = open(\"{}/{}.jpg\".format(dir, c),\"wb\")\n",
        "    output.write(resource.read())\n",
        "    output.close()\n",
        "\n",
        "  dir = \"{}greenstand_train/{}\".format(datadir, key)\n",
        "  for c, url in enumerate(data[20:]):\n",
        "    resource = urllib.request.urlopen(url)\n",
        "    output = open(\"{}/{}.jpg\".format(dir, c),\"wb\")\n",
        "    output.write(resource.read())\n",
        "    output.close()\n"
      ],
      "execution_count": null,
      "outputs": [
        {
          "output_type": "stream",
          "text": [
            "Directory  cordia africana  already exists\n",
            "Directory  cordia africana  already exists\n",
            "Directory  croton  Created \n",
            "Directory  croton  Created \n",
            "Directory  eucalyptus  Created \n",
            "Directory  eucalyptus  Created \n",
            "Directory  gravilia  Created \n",
            "Directory  gravilia  Created \n",
            "Directory  rauvolfia cafffra  Created \n",
            "Directory  rauvolfia cafffra  Created \n"
          ],
          "name": "stdout"
        }
      ]
    },
    {
      "cell_type": "markdown",
      "metadata": {
        "id": "PdNTIUcsYr_4",
        "colab_type": "text"
      },
      "source": [
        "#Training"
      ]
    },
    {
      "cell_type": "code",
      "metadata": {
        "id": "jNqgrPH_YAlo",
        "colab_type": "code",
        "colab": {}
      },
      "source": [
        "device = torch.device(\"cuda:0\" if torch.cuda.is_available() else \"cpu\")"
      ],
      "execution_count": 4,
      "outputs": []
    },
    {
      "cell_type": "code",
      "metadata": {
        "id": "xreS-Jt_EvJU",
        "colab_type": "code",
        "colab": {}
      },
      "source": [
        "#from https://discuss.pytorch.org/t/balanced-sampling-between-classes-with-torchvision-dataloader/2703/3\n",
        "def make_weights_for_balanced_classes(images, nclasses):\n",
        "  #returns appriopiate sampling weights for unbalanced data                        \n",
        "    count = [0] * nclasses                                                      \n",
        "    for item in images:                                                         \n",
        "        count[item[1]] += 1                                                     \n",
        "    weight_per_class = [0.] * nclasses                                      \n",
        "    N = float(sum(count))                                                   \n",
        "    for i in range(nclasses):                                                   \n",
        "        weight_per_class[i] = N/float(count[i])                                 \n",
        "    weight = [0] * len(images)                                              \n",
        "    for idx, val in enumerate(images):                                          \n",
        "        weight[idx] = weight_per_class[val[1]]                                  \n",
        "    return weight   "
      ],
      "execution_count": 5,
      "outputs": []
    },
    {
      "cell_type": "code",
      "metadata": {
        "id": "92rIVGurUeyb",
        "colab_type": "code",
        "colab": {}
      },
      "source": [
        "#crop to right input size of pre-trained network\n",
        "crop = torchvision.transforms.CenterCrop(480)\n",
        "resize = torchvision.transforms.Resize((224, 224))\n",
        "#standard normalizing required by resnet\n",
        "normalize = torchvision.transforms.Normalize(mean=[0.485, 0.456, 0.406],\n",
        "                                  std=[0.229, 0.224, 0.225])\n",
        "transforms = torchvision.transforms.Compose([crop, resize, torchvision.transforms.ToTensor(), normalize])\n",
        "\n",
        "train_dataset = torchvision.datasets.ImageFolder(\n",
        "        root=datadir+\"greenstand_train/\",\n",
        "        transform=transforms)\n",
        "\n",
        "#combat imbalanced classes by weightsampling\n",
        "weights = make_weights_for_balanced_classes(train_dataset.imgs, len(train_dataset.classes))                                                                \n",
        "weights = torch.DoubleTensor(weights)                                       \n",
        "sampler = torch.utils.data.sampler.WeightedRandomSampler(weights, len(weights))                     \n",
        "                                                                                                            \n",
        "\n",
        "train_loader = torch.utils.data.DataLoader(\n",
        "        train_dataset,\n",
        "        batch_size=64,\n",
        "        num_workers=0,\n",
        "        sampler = sampler)\n"
      ],
      "execution_count": 6,
      "outputs": []
    },
    {
      "cell_type": "code",
      "metadata": {
        "id": "4jQpkCdZ1sFt",
        "colab_type": "code",
        "colab": {
          "base_uri": "https://localhost:8080/",
          "height": 103,
          "referenced_widgets": [
            "9039bbc9691442c7bf4deb0d55cdbc11",
            "7f24d4596a2e413790c6087eae509f36",
            "0c62c221481d4c82b33fa56e4f5ccd15",
            "229100ddb0624787a4bc2fdf455f248a",
            "270b7d2e86df4f21b53096db34285ee7",
            "07b6b71d99bf422c924ddd702960f000",
            "cb56a832f5764d0098e211571f2238e5",
            "bd7c25bd686b4ec797f24605e3da36e0"
          ]
        },
        "outputId": "74b5e5cb-c23f-4edf-a710-d511f4d627d2"
      },
      "source": [
        "#initialize pre-trained model\n",
        "model = torchvision.models.resnet18(pretrained=True)\n",
        "#only use the pre-trained model as feature extracter\n",
        "for param in model.parameters():\n",
        "  param.requires_grad = True\n",
        "  #param.requires_grad = False\n",
        "#change last layer to correct amount of classes\n",
        "num_ftrs = model.fc.in_features\n",
        "model.fc = torch.nn.Linear(num_ftrs, 5)\n",
        "model = model.to(device)"
      ],
      "execution_count": 7,
      "outputs": [
        {
          "output_type": "stream",
          "text": [
            "Downloading: \"https://download.pytorch.org/models/resnet18-5c106cde.pth\" to /root/.cache/torch/checkpoints/resnet18-5c106cde.pth\n"
          ],
          "name": "stderr"
        },
        {
          "output_type": "display_data",
          "data": {
            "application/vnd.jupyter.widget-view+json": {
              "model_id": "9039bbc9691442c7bf4deb0d55cdbc11",
              "version_minor": 0,
              "version_major": 2
            },
            "text/plain": [
              "HBox(children=(FloatProgress(value=0.0, max=46827520.0), HTML(value='')))"
            ]
          },
          "metadata": {
            "tags": []
          }
        },
        {
          "output_type": "stream",
          "text": [
            "\n"
          ],
          "name": "stdout"
        }
      ]
    },
    {
      "cell_type": "code",
      "metadata": {
        "id": "OvsmbLZCZFum",
        "colab_type": "code",
        "colab": {
          "base_uri": "https://localhost:8080/",
          "height": 1000
        },
        "outputId": "48a23a22-008c-44dd-b9f2-6b93335b0cbb"
      },
      "source": [
        "#select only the parameters to be updated to pass to the optimizer\n",
        "params_to_update = model.parameters()\n",
        "print(\"Params to learn:\")\n",
        "params_to_update = []\n",
        "for name,param in model.named_parameters():\n",
        "    if param.requires_grad == True:\n",
        "        params_to_update.append(param)\n",
        "        print(\"\\t\",name)\n",
        "\n",
        "optimizer = torch.optim.Adam(params_to_update, lr=0.001)"
      ],
      "execution_count": 8,
      "outputs": [
        {
          "output_type": "stream",
          "text": [
            "Params to learn:\n",
            "\t conv1.weight\n",
            "\t bn1.weight\n",
            "\t bn1.bias\n",
            "\t layer1.0.conv1.weight\n",
            "\t layer1.0.bn1.weight\n",
            "\t layer1.0.bn1.bias\n",
            "\t layer1.0.conv2.weight\n",
            "\t layer1.0.bn2.weight\n",
            "\t layer1.0.bn2.bias\n",
            "\t layer1.1.conv1.weight\n",
            "\t layer1.1.bn1.weight\n",
            "\t layer1.1.bn1.bias\n",
            "\t layer1.1.conv2.weight\n",
            "\t layer1.1.bn2.weight\n",
            "\t layer1.1.bn2.bias\n",
            "\t layer2.0.conv1.weight\n",
            "\t layer2.0.bn1.weight\n",
            "\t layer2.0.bn1.bias\n",
            "\t layer2.0.conv2.weight\n",
            "\t layer2.0.bn2.weight\n",
            "\t layer2.0.bn2.bias\n",
            "\t layer2.0.downsample.0.weight\n",
            "\t layer2.0.downsample.1.weight\n",
            "\t layer2.0.downsample.1.bias\n",
            "\t layer2.1.conv1.weight\n",
            "\t layer2.1.bn1.weight\n",
            "\t layer2.1.bn1.bias\n",
            "\t layer2.1.conv2.weight\n",
            "\t layer2.1.bn2.weight\n",
            "\t layer2.1.bn2.bias\n",
            "\t layer3.0.conv1.weight\n",
            "\t layer3.0.bn1.weight\n",
            "\t layer3.0.bn1.bias\n",
            "\t layer3.0.conv2.weight\n",
            "\t layer3.0.bn2.weight\n",
            "\t layer3.0.bn2.bias\n",
            "\t layer3.0.downsample.0.weight\n",
            "\t layer3.0.downsample.1.weight\n",
            "\t layer3.0.downsample.1.bias\n",
            "\t layer3.1.conv1.weight\n",
            "\t layer3.1.bn1.weight\n",
            "\t layer3.1.bn1.bias\n",
            "\t layer3.1.conv2.weight\n",
            "\t layer3.1.bn2.weight\n",
            "\t layer3.1.bn2.bias\n",
            "\t layer4.0.conv1.weight\n",
            "\t layer4.0.bn1.weight\n",
            "\t layer4.0.bn1.bias\n",
            "\t layer4.0.conv2.weight\n",
            "\t layer4.0.bn2.weight\n",
            "\t layer4.0.bn2.bias\n",
            "\t layer4.0.downsample.0.weight\n",
            "\t layer4.0.downsample.1.weight\n",
            "\t layer4.0.downsample.1.bias\n",
            "\t layer4.1.conv1.weight\n",
            "\t layer4.1.bn1.weight\n",
            "\t layer4.1.bn1.bias\n",
            "\t layer4.1.conv2.weight\n",
            "\t layer4.1.bn2.weight\n",
            "\t layer4.1.bn2.bias\n",
            "\t fc.weight\n",
            "\t fc.bias\n"
          ],
          "name": "stdout"
        }
      ]
    },
    {
      "cell_type": "code",
      "metadata": {
        "id": "x9Qu79hXZ21k",
        "colab_type": "code",
        "colab": {}
      },
      "source": [
        "# Setup the loss\n",
        "criterion = torch.nn.CrossEntropyLoss()"
      ],
      "execution_count": 9,
      "outputs": []
    },
    {
      "cell_type": "code",
      "metadata": {
        "id": "wH-NjWQHaGUa",
        "colab_type": "code",
        "colab": {
          "base_uri": "https://localhost:8080/",
          "height": 153
        },
        "outputId": "bc958e4f-a567-4108-f9c3-ea5212668abc"
      },
      "source": [
        "num_epochs = 10\n",
        "\n",
        "model.train()\n",
        "for epoch in range(num_epochs):\n",
        "  print('Epoch {}/{}'.format(epoch, num_epochs - 1))\n",
        "  print('-' * 10)\n",
        "  running_loss= 0\n",
        "  running_corrects = 0\n",
        "\n",
        "  model.train()  # Set model to training mode\n",
        "  for c, data in enumerate(train_loader):\n",
        "      inputs = data[0].to(device)\n",
        "      labels = data[1].to(device)\n",
        "\n",
        "      # zero the parameter gradients\n",
        "      optimizer.zero_grad()\n",
        "\n",
        "      # forward\n",
        "      # track history if only in train\n",
        "     \n",
        "      outputs = model(inputs)\n",
        "      loss = criterion(outputs, labels)\n",
        "\n",
        "      _, preds = torch.max(outputs, 1)\n",
        "      loss.backward()\n",
        "      optimizer.step()\n",
        "\n",
        "\n",
        "      running_loss += loss.item() * inputs.size(0)\n",
        "      running_corrects += torch.sum(preds == labels.data)\n",
        "\n",
        "      epoch_loss = running_loss / len(train_loader.dataset)\n",
        "      epoch_acc = running_corrects.double() / len(train_loader.dataset)\n",
        "\n",
        "      if c%10 == 0:\n",
        "        print(f\"Progress: {c/len(train_loader)*100:.2f}%\")\n",
        "        print('Loss: {:.4f} Acc: {:.4f}'.format(epoch_loss, epoch_acc))\n",
        "\n"
      ],
      "execution_count": null,
      "outputs": [
        {
          "output_type": "stream",
          "text": [
            "Epoch 0/9\n",
            "----------\n",
            "Progress: 0.00%\n",
            "Loss: 0.0246 Acc: 0.0019\n",
            "Progress: 12.05%\n",
            "Loss: 0.0999 Acc: 0.0975\n",
            "Progress: 24.10%\n",
            "Loss: 0.1414 Acc: 0.2053\n"
          ],
          "name": "stdout"
        }
      ]
    },
    {
      "cell_type": "code",
      "metadata": {
        "id": "yxcBCig7GvGz",
        "colab_type": "code",
        "colab": {}
      },
      "source": [
        "torch.save(model, datadir+\"resnet18_model_full.pt\")\n"
      ],
      "execution_count": null,
      "outputs": []
    },
    {
      "cell_type": "code",
      "metadata": {
        "id": "9s7_TJRUhx38",
        "colab_type": "code",
        "colab": {}
      },
      "source": [
        "test_dataset = torchvision.datasets.ImageFolder(\n",
        "        root=datadir+\"greenstand_test/\",\n",
        "        transform=transforms)\n",
        "\n",
        "test_loader = torch.utils.data.DataLoader(\n",
        "        test_dataset,\n",
        "        batch_size=16,\n",
        "        num_workers=0,\n",
        "        shuffle=True)\n"
      ],
      "execution_count": null,
      "outputs": []
    },
    {
      "cell_type": "code",
      "metadata": {
        "id": "29R7Nlojin_-",
        "colab_type": "code",
        "colab": {}
      },
      "source": [
        "from sklearn.metrics import classification_report\n",
        "model.eval()\n",
        "\n",
        "\n",
        "for loader, title in zip([train_loader, test_loader], [\"Train\", \"Test\"]):\n",
        "  target = []\n",
        "  predicted = []\n",
        "  for inputs, labels in loader:\n",
        "      inputs = inputs.to(device)\n",
        "      #labels = labels.to(device)\n",
        "\n",
        "      predicted += model(inputs).argmax(1).tolist()\n",
        "      target += labels.tolist()\n",
        "  print(\"Performance on the {} set\".format(title))\n",
        "  print(classification_report(target, predicted, target_names = test_dataset.class_to_idx.keys()))\n"
      ],
      "execution_count": null,
      "outputs": []
    },
    {
      "cell_type": "markdown",
      "metadata": {
        "id": "1BjrjZ36esxn",
        "colab_type": "text"
      },
      "source": [
        ""
      ]
    }
  ]
}