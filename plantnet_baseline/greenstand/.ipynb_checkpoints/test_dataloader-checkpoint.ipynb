{
 "cells": [
  {
   "cell_type": "code",
   "execution_count": null,
   "metadata": {},
   "outputs": [],
   "source": [
    "# Imports\n",
    "import greenstand_utils as gu\n",
    "import s3_api\n",
    "\n",
    "# Specify data args\n",
    "args = {\n",
    "    'bucket': \"treetracker-training-images\",\n",
    "    'prefixes': [\"haiti/\",\"herbarium/\"],\n",
    "    'local_path': \"../../../data/treetracker-training-images\",\n",
    "    'train_test_split': .8,\n",
    "    'train_val_split': .8,\n",
    "    'metadata_file': 'metadata.json',\n",
    "    'seed': 40,\n",
    "    'size_image': 256,\n",
    "    'batch_size': 64,\n",
    "    'num_workers': 4\n",
    "}\n",
    "\n",
    "# Get DataLoaders\n",
    "train, val, test, dataset_attributes = gu.sync_split_get_dataloaders(args)\n",
    "\n",
    "# Using the S3 API\n",
    "s3 = s3_api.S3()\n",
    "s3.put_object(args['bucket'], 'test_dan.txt', '123')\n",
    "lst = s3.list_objects(args['bucket'], 'haiti/GREVROBU/')\n",
    "obj = s3.get_object(args['bucket'], 'test_dan.txt')\n",
    "s3.delete_object(args['bucket'], 'test_dan.txt')"
   ]
  },
  {
   "cell_type": "code",
   "execution_count": null,
   "metadata": {},
   "outputs": [],
   "source": []
  }
 ],
 "metadata": {
  "instance_type": "ml.t3.medium",
  "kernelspec": {
   "display_name": "Python 3 (PyTorch 1.10 Python 3.8 CPU Optimized)",
   "language": "python",
   "name": "python3__SAGEMAKER_INTERNAL__arn:aws:sagemaker:us-east-1:081325390199:image/pytorch-1.10-cpu-py38"
  },
  "language_info": {
   "codemirror_mode": {
    "name": "ipython",
    "version": 3
   },
   "file_extension": ".py",
   "mimetype": "text/x-python",
   "name": "python",
   "nbconvert_exporter": "python",
   "pygments_lexer": "ipython3",
   "version": "3.8.10"
  }
 },
 "nbformat": 4,
 "nbformat_minor": 4
}
